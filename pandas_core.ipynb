{
  "nbformat": 4,
  "nbformat_minor": 0,
  "metadata": {
    "colab": {
      "name": "pandas_core.ipynb",
      "provenance": [],
      "collapsed_sections": []
    },
    "kernelspec": {
      "name": "python3",
      "display_name": "Python 3"
    },
    "language_info": {
      "name": "python"
    }
  },
  "cells": [
    {
      "cell_type": "code",
      "metadata": {
        "id": "AGTuSEQa9Jnf"
      },
      "source": [
        "import numpy as np\n",
        "import pandas as pd\n",
        "import matplotlib.pyplot as plt\n"
      ],
      "execution_count": null,
      "outputs": []
    },
    {
      "cell_type": "code",
      "metadata": {
        "id": "quloNj_r9jEl"
      },
      "source": [
        "df = pd.read_csv('tips.csv')"
      ],
      "execution_count": null,
      "outputs": []
    },
    {
      "cell_type": "code",
      "metadata": {
        "colab": {
          "base_uri": "https://localhost:8080/",
          "height": 200
        },
        "id": "hxVv6x_e9mj3",
        "outputId": "3642bed1-6eaf-44f3-c4c0-42823c29b9d6"
      },
      "source": [
        "df.head()"
      ],
      "execution_count": null,
      "outputs": [
        {
          "output_type": "execute_result",
          "data": {
            "text/html": [
              "<div>\n",
              "<style scoped>\n",
              "    .dataframe tbody tr th:only-of-type {\n",
              "        vertical-align: middle;\n",
              "    }\n",
              "\n",
              "    .dataframe tbody tr th {\n",
              "        vertical-align: top;\n",
              "    }\n",
              "\n",
              "    .dataframe thead th {\n",
              "        text-align: right;\n",
              "    }\n",
              "</style>\n",
              "<table border=\"1\" class=\"dataframe\">\n",
              "  <thead>\n",
              "    <tr style=\"text-align: right;\">\n",
              "      <th></th>\n",
              "      <th>total_bill</th>\n",
              "      <th>tip</th>\n",
              "      <th>sex</th>\n",
              "      <th>smoker</th>\n",
              "      <th>day</th>\n",
              "      <th>time</th>\n",
              "      <th>size</th>\n",
              "      <th>price_per_person</th>\n",
              "      <th>Payer Name</th>\n",
              "      <th>CC Number</th>\n",
              "      <th>Payment ID</th>\n",
              "    </tr>\n",
              "  </thead>\n",
              "  <tbody>\n",
              "    <tr>\n",
              "      <th>0</th>\n",
              "      <td>16.99</td>\n",
              "      <td>1.01</td>\n",
              "      <td>Female</td>\n",
              "      <td>No</td>\n",
              "      <td>Sun</td>\n",
              "      <td>Dinner</td>\n",
              "      <td>2</td>\n",
              "      <td>8.49</td>\n",
              "      <td>Christy Cunningham</td>\n",
              "      <td>3560325168603410</td>\n",
              "      <td>Sun2959</td>\n",
              "    </tr>\n",
              "    <tr>\n",
              "      <th>1</th>\n",
              "      <td>10.34</td>\n",
              "      <td>1.66</td>\n",
              "      <td>Male</td>\n",
              "      <td>No</td>\n",
              "      <td>Sun</td>\n",
              "      <td>Dinner</td>\n",
              "      <td>3</td>\n",
              "      <td>3.45</td>\n",
              "      <td>Douglas Tucker</td>\n",
              "      <td>4478071379779230</td>\n",
              "      <td>Sun4608</td>\n",
              "    </tr>\n",
              "    <tr>\n",
              "      <th>2</th>\n",
              "      <td>21.01</td>\n",
              "      <td>3.50</td>\n",
              "      <td>Male</td>\n",
              "      <td>No</td>\n",
              "      <td>Sun</td>\n",
              "      <td>Dinner</td>\n",
              "      <td>3</td>\n",
              "      <td>7.00</td>\n",
              "      <td>Travis Walters</td>\n",
              "      <td>6011812112971322</td>\n",
              "      <td>Sun4458</td>\n",
              "    </tr>\n",
              "    <tr>\n",
              "      <th>3</th>\n",
              "      <td>23.68</td>\n",
              "      <td>3.31</td>\n",
              "      <td>Male</td>\n",
              "      <td>No</td>\n",
              "      <td>Sun</td>\n",
              "      <td>Dinner</td>\n",
              "      <td>2</td>\n",
              "      <td>11.84</td>\n",
              "      <td>Nathaniel Harris</td>\n",
              "      <td>4676137647685994</td>\n",
              "      <td>Sun5260</td>\n",
              "    </tr>\n",
              "    <tr>\n",
              "      <th>4</th>\n",
              "      <td>24.59</td>\n",
              "      <td>3.61</td>\n",
              "      <td>Female</td>\n",
              "      <td>No</td>\n",
              "      <td>Sun</td>\n",
              "      <td>Dinner</td>\n",
              "      <td>4</td>\n",
              "      <td>6.15</td>\n",
              "      <td>Tonya Carter</td>\n",
              "      <td>4832732618637221</td>\n",
              "      <td>Sun2251</td>\n",
              "    </tr>\n",
              "  </tbody>\n",
              "</table>\n",
              "</div>"
            ],
            "text/plain": [
              "   total_bill   tip     sex  ...          Payer Name         CC Number Payment ID\n",
              "0       16.99  1.01  Female  ...  Christy Cunningham  3560325168603410    Sun2959\n",
              "1       10.34  1.66    Male  ...      Douglas Tucker  4478071379779230    Sun4608\n",
              "2       21.01  3.50    Male  ...      Travis Walters  6011812112971322    Sun4458\n",
              "3       23.68  3.31    Male  ...    Nathaniel Harris  4676137647685994    Sun5260\n",
              "4       24.59  3.61  Female  ...        Tonya Carter  4832732618637221    Sun2251\n",
              "\n",
              "[5 rows x 11 columns]"
            ]
          },
          "metadata": {},
          "execution_count": 5
        }
      ]
    },
    {
      "cell_type": "code",
      "metadata": {
        "colab": {
          "base_uri": "https://localhost:8080/"
        },
        "id": "eODbbId89zhC",
        "outputId": "d5f94e2f-7f4e-4180-8348-5206a6e16fdd"
      },
      "source": [
        "df.info()"
      ],
      "execution_count": null,
      "outputs": [
        {
          "output_type": "stream",
          "name": "stdout",
          "text": [
            "<class 'pandas.core.frame.DataFrame'>\n",
            "RangeIndex: 244 entries, 0 to 243\n",
            "Data columns (total 11 columns):\n",
            " #   Column            Non-Null Count  Dtype  \n",
            "---  ------            --------------  -----  \n",
            " 0   total_bill        244 non-null    float64\n",
            " 1   tip               244 non-null    float64\n",
            " 2   sex               244 non-null    object \n",
            " 3   smoker            244 non-null    object \n",
            " 4   day               244 non-null    object \n",
            " 5   time              244 non-null    object \n",
            " 6   size              244 non-null    int64  \n",
            " 7   price_per_person  244 non-null    float64\n",
            " 8   Payer Name        244 non-null    object \n",
            " 9   CC Number         244 non-null    int64  \n",
            " 10  Payment ID        244 non-null    object \n",
            "dtypes: float64(3), int64(2), object(6)\n",
            "memory usage: 21.1+ KB\n"
          ]
        }
      ]
    },
    {
      "cell_type": "code",
      "metadata": {
        "id": "GRO2CzxY9n4V"
      },
      "source": [
        "df['CC Number'] = df['CC Number'].apply(lambda x: str(x)[-4:])"
      ],
      "execution_count": null,
      "outputs": []
    },
    {
      "cell_type": "code",
      "metadata": {
        "colab": {
          "base_uri": "https://localhost:8080/"
        },
        "id": "B_Zc0idY9rF6",
        "outputId": "a758f9b2-2b01-4cb2-bd2a-ae1390d2ed86"
      },
      "source": [
        "df['CC Number']"
      ],
      "execution_count": null,
      "outputs": [
        {
          "output_type": "execute_result",
          "data": {
            "text/plain": [
              "0      3410\n",
              "1      9230\n",
              "2      1322\n",
              "3      5994\n",
              "4      7221\n",
              "       ... \n",
              "239    2842\n",
              "240    5404\n",
              "241    7196\n",
              "242    0950\n",
              "243    8139\n",
              "Name: CC Number, Length: 244, dtype: object"
            ]
          },
          "metadata": {},
          "execution_count": 8
        }
      ]
    },
    {
      "cell_type": "code",
      "metadata": {
        "id": "aSHgyPz1_miy"
      },
      "source": [
        "def quality(total_bill,tip):\n",
        "  if tip/total_bill > 0.25:\n",
        "    return 'Generous'\n",
        "  return 'Other'"
      ],
      "execution_count": null,
      "outputs": []
    },
    {
      "cell_type": "code",
      "metadata": {
        "id": "IaaB45CtNU58"
      },
      "source": [
        "#1st method\n",
        "df['Quality'] = df[['total_bill','tip']].apply(lambda df: quality(df['total_bill'],df['tip']),axis=1)"
      ],
      "execution_count": null,
      "outputs": []
    },
    {
      "cell_type": "code",
      "metadata": {
        "colab": {
          "base_uri": "https://localhost:8080/",
          "height": 200
        },
        "id": "dMb3oZC6NkGG",
        "outputId": "01379ab3-5665-44e0-b04d-9cb254e06880"
      },
      "source": [
        "df.head()"
      ],
      "execution_count": null,
      "outputs": [
        {
          "output_type": "execute_result",
          "data": {
            "text/html": [
              "<div>\n",
              "<style scoped>\n",
              "    .dataframe tbody tr th:only-of-type {\n",
              "        vertical-align: middle;\n",
              "    }\n",
              "\n",
              "    .dataframe tbody tr th {\n",
              "        vertical-align: top;\n",
              "    }\n",
              "\n",
              "    .dataframe thead th {\n",
              "        text-align: right;\n",
              "    }\n",
              "</style>\n",
              "<table border=\"1\" class=\"dataframe\">\n",
              "  <thead>\n",
              "    <tr style=\"text-align: right;\">\n",
              "      <th></th>\n",
              "      <th>total_bill</th>\n",
              "      <th>tip</th>\n",
              "      <th>sex</th>\n",
              "      <th>smoker</th>\n",
              "      <th>day</th>\n",
              "      <th>time</th>\n",
              "      <th>size</th>\n",
              "      <th>price_per_person</th>\n",
              "      <th>Payer Name</th>\n",
              "      <th>CC Number</th>\n",
              "      <th>Payment ID</th>\n",
              "      <th>Quality</th>\n",
              "    </tr>\n",
              "  </thead>\n",
              "  <tbody>\n",
              "    <tr>\n",
              "      <th>0</th>\n",
              "      <td>16.99</td>\n",
              "      <td>1.01</td>\n",
              "      <td>Female</td>\n",
              "      <td>No</td>\n",
              "      <td>Sun</td>\n",
              "      <td>Dinner</td>\n",
              "      <td>2</td>\n",
              "      <td>8.49</td>\n",
              "      <td>Christy Cunningham</td>\n",
              "      <td>3410</td>\n",
              "      <td>Sun2959</td>\n",
              "      <td>Other</td>\n",
              "    </tr>\n",
              "    <tr>\n",
              "      <th>1</th>\n",
              "      <td>10.34</td>\n",
              "      <td>1.66</td>\n",
              "      <td>Male</td>\n",
              "      <td>No</td>\n",
              "      <td>Sun</td>\n",
              "      <td>Dinner</td>\n",
              "      <td>3</td>\n",
              "      <td>3.45</td>\n",
              "      <td>Douglas Tucker</td>\n",
              "      <td>9230</td>\n",
              "      <td>Sun4608</td>\n",
              "      <td>Other</td>\n",
              "    </tr>\n",
              "    <tr>\n",
              "      <th>2</th>\n",
              "      <td>21.01</td>\n",
              "      <td>3.50</td>\n",
              "      <td>Male</td>\n",
              "      <td>No</td>\n",
              "      <td>Sun</td>\n",
              "      <td>Dinner</td>\n",
              "      <td>3</td>\n",
              "      <td>7.00</td>\n",
              "      <td>Travis Walters</td>\n",
              "      <td>1322</td>\n",
              "      <td>Sun4458</td>\n",
              "      <td>Other</td>\n",
              "    </tr>\n",
              "    <tr>\n",
              "      <th>3</th>\n",
              "      <td>23.68</td>\n",
              "      <td>3.31</td>\n",
              "      <td>Male</td>\n",
              "      <td>No</td>\n",
              "      <td>Sun</td>\n",
              "      <td>Dinner</td>\n",
              "      <td>2</td>\n",
              "      <td>11.84</td>\n",
              "      <td>Nathaniel Harris</td>\n",
              "      <td>5994</td>\n",
              "      <td>Sun5260</td>\n",
              "      <td>Other</td>\n",
              "    </tr>\n",
              "    <tr>\n",
              "      <th>4</th>\n",
              "      <td>24.59</td>\n",
              "      <td>3.61</td>\n",
              "      <td>Female</td>\n",
              "      <td>No</td>\n",
              "      <td>Sun</td>\n",
              "      <td>Dinner</td>\n",
              "      <td>4</td>\n",
              "      <td>6.15</td>\n",
              "      <td>Tonya Carter</td>\n",
              "      <td>7221</td>\n",
              "      <td>Sun2251</td>\n",
              "      <td>Other</td>\n",
              "    </tr>\n",
              "  </tbody>\n",
              "</table>\n",
              "</div>"
            ],
            "text/plain": [
              "   total_bill   tip     sex  ... CC Number Payment ID Quality\n",
              "0       16.99  1.01  Female  ...      3410    Sun2959   Other\n",
              "1       10.34  1.66    Male  ...      9230    Sun4608   Other\n",
              "2       21.01  3.50    Male  ...      1322    Sun4458   Other\n",
              "3       23.68  3.31    Male  ...      5994    Sun5260   Other\n",
              "4       24.59  3.61  Female  ...      7221    Sun2251   Other\n",
              "\n",
              "[5 rows x 12 columns]"
            ]
          },
          "metadata": {},
          "execution_count": 11
        }
      ]
    },
    {
      "cell_type": "code",
      "metadata": {
        "id": "3RImPX-5N6S5"
      },
      "source": [
        "#2nd method\n",
        "df['Quality'] = np.vectorize(quality)(df['total_bill'],df['tip'])"
      ],
      "execution_count": null,
      "outputs": []
    },
    {
      "cell_type": "code",
      "metadata": {
        "colab": {
          "base_uri": "https://localhost:8080/",
          "height": 408
        },
        "id": "q30rQkalOWa6",
        "outputId": "e3dcc50f-0010-4956-c2a3-ee5473787922"
      },
      "source": [
        "df"
      ],
      "execution_count": null,
      "outputs": [
        {
          "output_type": "execute_result",
          "data": {
            "text/html": [
              "<div>\n",
              "<style scoped>\n",
              "    .dataframe tbody tr th:only-of-type {\n",
              "        vertical-align: middle;\n",
              "    }\n",
              "\n",
              "    .dataframe tbody tr th {\n",
              "        vertical-align: top;\n",
              "    }\n",
              "\n",
              "    .dataframe thead th {\n",
              "        text-align: right;\n",
              "    }\n",
              "</style>\n",
              "<table border=\"1\" class=\"dataframe\">\n",
              "  <thead>\n",
              "    <tr style=\"text-align: right;\">\n",
              "      <th></th>\n",
              "      <th>total_bill</th>\n",
              "      <th>tip</th>\n",
              "      <th>sex</th>\n",
              "      <th>smoker</th>\n",
              "      <th>day</th>\n",
              "      <th>time</th>\n",
              "      <th>size</th>\n",
              "      <th>price_per_person</th>\n",
              "      <th>Payer Name</th>\n",
              "      <th>CC Number</th>\n",
              "      <th>Payment ID</th>\n",
              "      <th>Quality</th>\n",
              "    </tr>\n",
              "  </thead>\n",
              "  <tbody>\n",
              "    <tr>\n",
              "      <th>0</th>\n",
              "      <td>16.99</td>\n",
              "      <td>1.01</td>\n",
              "      <td>Female</td>\n",
              "      <td>No</td>\n",
              "      <td>Sun</td>\n",
              "      <td>Dinner</td>\n",
              "      <td>2</td>\n",
              "      <td>8.49</td>\n",
              "      <td>Christy Cunningham</td>\n",
              "      <td>3410</td>\n",
              "      <td>Sun2959</td>\n",
              "      <td>Other</td>\n",
              "    </tr>\n",
              "    <tr>\n",
              "      <th>1</th>\n",
              "      <td>10.34</td>\n",
              "      <td>1.66</td>\n",
              "      <td>Male</td>\n",
              "      <td>No</td>\n",
              "      <td>Sun</td>\n",
              "      <td>Dinner</td>\n",
              "      <td>3</td>\n",
              "      <td>3.45</td>\n",
              "      <td>Douglas Tucker</td>\n",
              "      <td>9230</td>\n",
              "      <td>Sun4608</td>\n",
              "      <td>Other</td>\n",
              "    </tr>\n",
              "    <tr>\n",
              "      <th>2</th>\n",
              "      <td>21.01</td>\n",
              "      <td>3.50</td>\n",
              "      <td>Male</td>\n",
              "      <td>No</td>\n",
              "      <td>Sun</td>\n",
              "      <td>Dinner</td>\n",
              "      <td>3</td>\n",
              "      <td>7.00</td>\n",
              "      <td>Travis Walters</td>\n",
              "      <td>1322</td>\n",
              "      <td>Sun4458</td>\n",
              "      <td>Other</td>\n",
              "    </tr>\n",
              "    <tr>\n",
              "      <th>3</th>\n",
              "      <td>23.68</td>\n",
              "      <td>3.31</td>\n",
              "      <td>Male</td>\n",
              "      <td>No</td>\n",
              "      <td>Sun</td>\n",
              "      <td>Dinner</td>\n",
              "      <td>2</td>\n",
              "      <td>11.84</td>\n",
              "      <td>Nathaniel Harris</td>\n",
              "      <td>5994</td>\n",
              "      <td>Sun5260</td>\n",
              "      <td>Other</td>\n",
              "    </tr>\n",
              "    <tr>\n",
              "      <th>4</th>\n",
              "      <td>24.59</td>\n",
              "      <td>3.61</td>\n",
              "      <td>Female</td>\n",
              "      <td>No</td>\n",
              "      <td>Sun</td>\n",
              "      <td>Dinner</td>\n",
              "      <td>4</td>\n",
              "      <td>6.15</td>\n",
              "      <td>Tonya Carter</td>\n",
              "      <td>7221</td>\n",
              "      <td>Sun2251</td>\n",
              "      <td>Other</td>\n",
              "    </tr>\n",
              "    <tr>\n",
              "      <th>...</th>\n",
              "      <td>...</td>\n",
              "      <td>...</td>\n",
              "      <td>...</td>\n",
              "      <td>...</td>\n",
              "      <td>...</td>\n",
              "      <td>...</td>\n",
              "      <td>...</td>\n",
              "      <td>...</td>\n",
              "      <td>...</td>\n",
              "      <td>...</td>\n",
              "      <td>...</td>\n",
              "      <td>...</td>\n",
              "    </tr>\n",
              "    <tr>\n",
              "      <th>239</th>\n",
              "      <td>29.03</td>\n",
              "      <td>5.92</td>\n",
              "      <td>Male</td>\n",
              "      <td>No</td>\n",
              "      <td>Sat</td>\n",
              "      <td>Dinner</td>\n",
              "      <td>3</td>\n",
              "      <td>9.68</td>\n",
              "      <td>Michael Avila</td>\n",
              "      <td>2842</td>\n",
              "      <td>Sat2657</td>\n",
              "      <td>Other</td>\n",
              "    </tr>\n",
              "    <tr>\n",
              "      <th>240</th>\n",
              "      <td>27.18</td>\n",
              "      <td>2.00</td>\n",
              "      <td>Female</td>\n",
              "      <td>Yes</td>\n",
              "      <td>Sat</td>\n",
              "      <td>Dinner</td>\n",
              "      <td>2</td>\n",
              "      <td>13.59</td>\n",
              "      <td>Monica Sanders</td>\n",
              "      <td>5404</td>\n",
              "      <td>Sat1766</td>\n",
              "      <td>Other</td>\n",
              "    </tr>\n",
              "    <tr>\n",
              "      <th>241</th>\n",
              "      <td>22.67</td>\n",
              "      <td>2.00</td>\n",
              "      <td>Male</td>\n",
              "      <td>Yes</td>\n",
              "      <td>Sat</td>\n",
              "      <td>Dinner</td>\n",
              "      <td>2</td>\n",
              "      <td>11.34</td>\n",
              "      <td>Keith Wong</td>\n",
              "      <td>7196</td>\n",
              "      <td>Sat3880</td>\n",
              "      <td>Other</td>\n",
              "    </tr>\n",
              "    <tr>\n",
              "      <th>242</th>\n",
              "      <td>17.82</td>\n",
              "      <td>1.75</td>\n",
              "      <td>Male</td>\n",
              "      <td>No</td>\n",
              "      <td>Sat</td>\n",
              "      <td>Dinner</td>\n",
              "      <td>2</td>\n",
              "      <td>8.91</td>\n",
              "      <td>Dennis Dixon</td>\n",
              "      <td>0950</td>\n",
              "      <td>Sat17</td>\n",
              "      <td>Other</td>\n",
              "    </tr>\n",
              "    <tr>\n",
              "      <th>243</th>\n",
              "      <td>18.78</td>\n",
              "      <td>3.00</td>\n",
              "      <td>Female</td>\n",
              "      <td>No</td>\n",
              "      <td>Thur</td>\n",
              "      <td>Dinner</td>\n",
              "      <td>2</td>\n",
              "      <td>9.39</td>\n",
              "      <td>Michelle Hardin</td>\n",
              "      <td>8139</td>\n",
              "      <td>Thur672</td>\n",
              "      <td>Other</td>\n",
              "    </tr>\n",
              "  </tbody>\n",
              "</table>\n",
              "<p>244 rows × 12 columns</p>\n",
              "</div>"
            ],
            "text/plain": [
              "     total_bill   tip     sex  ... CC Number Payment ID Quality\n",
              "0         16.99  1.01  Female  ...      3410    Sun2959   Other\n",
              "1         10.34  1.66    Male  ...      9230    Sun4608   Other\n",
              "2         21.01  3.50    Male  ...      1322    Sun4458   Other\n",
              "3         23.68  3.31    Male  ...      5994    Sun5260   Other\n",
              "4         24.59  3.61  Female  ...      7221    Sun2251   Other\n",
              "..          ...   ...     ...  ...       ...        ...     ...\n",
              "239       29.03  5.92    Male  ...      2842    Sat2657   Other\n",
              "240       27.18  2.00  Female  ...      5404    Sat1766   Other\n",
              "241       22.67  2.00    Male  ...      7196    Sat3880   Other\n",
              "242       17.82  1.75    Male  ...      0950      Sat17   Other\n",
              "243       18.78  3.00  Female  ...      8139    Thur672   Other\n",
              "\n",
              "[244 rows x 12 columns]"
            ]
          },
          "metadata": {},
          "execution_count": 13
        }
      ]
    },
    {
      "cell_type": "code",
      "metadata": {
        "id": "LH8d5DfPOXXf"
      },
      "source": [
        "import timeit"
      ],
      "execution_count": null,
      "outputs": []
    },
    {
      "cell_type": "code",
      "metadata": {
        "id": "ldy1o4b5Ou5E"
      },
      "source": [
        "#code sinppet to be executed only once\n",
        "setup = '''\n",
        "import numpy as np\n",
        "import pandas as pd\n",
        "df = pd.read_csv('tips.csv')\n",
        "def quality(total_bill,tips):\n",
        "  if tips / total_bill > 0.25:\n",
        "    return \"Generous\"\n",
        "  return \"Other\"\n",
        "'''"
      ],
      "execution_count": null,
      "outputs": []
    },
    {
      "cell_type": "code",
      "metadata": {
        "id": "d6QVx_7gT50G"
      },
      "source": [
        "#code snippet whose execution time is to be measured\n",
        "stmt_one = '''\n",
        "df['Quality'] = df[['total_bill','tip']].apply(lambda df: quality(df['total_bill'],df['tip']),axis=1)\n",
        "'''\n",
        "stmt_two = '''\n",
        "df['Quality'] = np.vectorize(quality)(df['total_bill'],df['tip'])\n",
        "'''"
      ],
      "execution_count": null,
      "outputs": []
    },
    {
      "cell_type": "code",
      "metadata": {
        "colab": {
          "base_uri": "https://localhost:8080/"
        },
        "id": "k8hYq7E8ULkj",
        "outputId": "2995b4e8-185d-40e5-9b9d-7e0e9845bba1"
      },
      "source": [
        "timeit.timeit(setup=setup,stmt=stmt_one,number=1000)"
      ],
      "execution_count": null,
      "outputs": [
        {
          "output_type": "execute_result",
          "data": {
            "text/plain": [
              "4.768359486999998"
            ]
          },
          "metadata": {},
          "execution_count": 17
        }
      ]
    },
    {
      "cell_type": "code",
      "metadata": {
        "colab": {
          "base_uri": "https://localhost:8080/"
        },
        "id": "znCDkPTAUWWw",
        "outputId": "41321a94-75c4-419b-a98d-f2a870df34e3"
      },
      "source": [
        "timeit.timeit(setup=setup,stmt=stmt_two,number=1000)"
      ],
      "execution_count": null,
      "outputs": [
        {
          "output_type": "execute_result",
          "data": {
            "text/plain": [
              "0.4137328869999237"
            ]
          },
          "metadata": {},
          "execution_count": 18
        }
      ]
    },
    {
      "cell_type": "code",
      "metadata": {
        "colab": {
          "base_uri": "https://localhost:8080/"
        },
        "id": "L14mxl5KUdsl",
        "outputId": "bece8110-0ef9-4f34-f16f-2f07c25b74b0"
      },
      "source": [
        " #1st approach\n",
        " df['sex'].replace(['Female','Male'],['F','M'])"
      ],
      "execution_count": null,
      "outputs": [
        {
          "output_type": "execute_result",
          "data": {
            "text/plain": [
              "0      F\n",
              "1      M\n",
              "2      M\n",
              "3      M\n",
              "4      F\n",
              "      ..\n",
              "239    M\n",
              "240    F\n",
              "241    M\n",
              "242    M\n",
              "243    F\n",
              "Name: sex, Length: 244, dtype: object"
            ]
          },
          "metadata": {},
          "execution_count": 19
        }
      ]
    },
    {
      "cell_type": "code",
      "metadata": {
        "colab": {
          "base_uri": "https://localhost:8080/"
        },
        "id": "up5Db5nmg9eQ",
        "outputId": "e7a1f3e4-b286-404a-860e-1a8366dfdb9b"
      },
      "source": [
        "#2nd apporach\n",
        "mymap = {'Female': 'F', 'Male': 'M'}\n",
        "df['sex'].map(mymap)"
      ],
      "execution_count": null,
      "outputs": [
        {
          "output_type": "execute_result",
          "data": {
            "text/plain": [
              "0      F\n",
              "1      M\n",
              "2      M\n",
              "3      M\n",
              "4      F\n",
              "      ..\n",
              "239    M\n",
              "240    F\n",
              "241    M\n",
              "242    M\n",
              "243    F\n",
              "Name: sex, Length: 244, dtype: object"
            ]
          },
          "metadata": {},
          "execution_count": 20
        }
      ]
    },
    {
      "cell_type": "code",
      "metadata": {
        "colab": {
          "base_uri": "https://localhost:8080/"
        },
        "id": "aqVyHtIdhOAh",
        "outputId": "617a8870-7903-4e6a-b7d1-d8b68d662af8"
      },
      "source": [
        "df.duplicated()"
      ],
      "execution_count": null,
      "outputs": [
        {
          "output_type": "execute_result",
          "data": {
            "text/plain": [
              "0      False\n",
              "1      False\n",
              "2      False\n",
              "3      False\n",
              "4      False\n",
              "       ...  \n",
              "239    False\n",
              "240    False\n",
              "241    False\n",
              "242    False\n",
              "243    False\n",
              "Length: 244, dtype: bool"
            ]
          },
          "metadata": {},
          "execution_count": 21
        }
      ]
    },
    {
      "cell_type": "code",
      "metadata": {
        "id": "_9iqOkUYhVZe"
      },
      "source": [
        "simple_df = pd.DataFrame([1,2,2,2],['a','b','c','d'])"
      ],
      "execution_count": null,
      "outputs": []
    },
    {
      "cell_type": "code",
      "metadata": {
        "colab": {
          "base_uri": "https://localhost:8080/",
          "height": 170
        },
        "id": "aF-72jyJhcMs",
        "outputId": "1ce4f4ad-b760-4b75-9373-87db1ddc781e"
      },
      "source": [
        "simple_df"
      ],
      "execution_count": null,
      "outputs": [
        {
          "output_type": "execute_result",
          "data": {
            "text/html": [
              "<div>\n",
              "<style scoped>\n",
              "    .dataframe tbody tr th:only-of-type {\n",
              "        vertical-align: middle;\n",
              "    }\n",
              "\n",
              "    .dataframe tbody tr th {\n",
              "        vertical-align: top;\n",
              "    }\n",
              "\n",
              "    .dataframe thead th {\n",
              "        text-align: right;\n",
              "    }\n",
              "</style>\n",
              "<table border=\"1\" class=\"dataframe\">\n",
              "  <thead>\n",
              "    <tr style=\"text-align: right;\">\n",
              "      <th></th>\n",
              "      <th>0</th>\n",
              "    </tr>\n",
              "  </thead>\n",
              "  <tbody>\n",
              "    <tr>\n",
              "      <th>a</th>\n",
              "      <td>1</td>\n",
              "    </tr>\n",
              "    <tr>\n",
              "      <th>b</th>\n",
              "      <td>2</td>\n",
              "    </tr>\n",
              "    <tr>\n",
              "      <th>c</th>\n",
              "      <td>2</td>\n",
              "    </tr>\n",
              "    <tr>\n",
              "      <th>d</th>\n",
              "      <td>2</td>\n",
              "    </tr>\n",
              "  </tbody>\n",
              "</table>\n",
              "</div>"
            ],
            "text/plain": [
              "   0\n",
              "a  1\n",
              "b  2\n",
              "c  2\n",
              "d  2"
            ]
          },
          "metadata": {},
          "execution_count": 23
        }
      ]
    },
    {
      "cell_type": "code",
      "metadata": {
        "colab": {
          "base_uri": "https://localhost:8080/"
        },
        "id": "UdBtdGAmhgbC",
        "outputId": "8890ef5b-48dc-4d58-d767-576976572583"
      },
      "source": [
        "simple_df.duplicated()"
      ],
      "execution_count": null,
      "outputs": [
        {
          "output_type": "execute_result",
          "data": {
            "text/plain": [
              "a    False\n",
              "b    False\n",
              "c     True\n",
              "d     True\n",
              "dtype: bool"
            ]
          },
          "metadata": {},
          "execution_count": 24
        }
      ]
    },
    {
      "cell_type": "code",
      "metadata": {
        "colab": {
          "base_uri": "https://localhost:8080/",
          "height": 108
        },
        "id": "SQbRduVqhjl4",
        "outputId": "8e2728f4-66f3-4246-8236-5b9448e4c54a"
      },
      "source": [
        "simple_df.drop_duplicates()"
      ],
      "execution_count": null,
      "outputs": [
        {
          "output_type": "execute_result",
          "data": {
            "text/html": [
              "<div>\n",
              "<style scoped>\n",
              "    .dataframe tbody tr th:only-of-type {\n",
              "        vertical-align: middle;\n",
              "    }\n",
              "\n",
              "    .dataframe tbody tr th {\n",
              "        vertical-align: top;\n",
              "    }\n",
              "\n",
              "    .dataframe thead th {\n",
              "        text-align: right;\n",
              "    }\n",
              "</style>\n",
              "<table border=\"1\" class=\"dataframe\">\n",
              "  <thead>\n",
              "    <tr style=\"text-align: right;\">\n",
              "      <th></th>\n",
              "      <th>0</th>\n",
              "    </tr>\n",
              "  </thead>\n",
              "  <tbody>\n",
              "    <tr>\n",
              "      <th>a</th>\n",
              "      <td>1</td>\n",
              "    </tr>\n",
              "    <tr>\n",
              "      <th>b</th>\n",
              "      <td>2</td>\n",
              "    </tr>\n",
              "  </tbody>\n",
              "</table>\n",
              "</div>"
            ],
            "text/plain": [
              "   0\n",
              "a  1\n",
              "b  2"
            ]
          },
          "metadata": {},
          "execution_count": 25
        }
      ]
    },
    {
      "cell_type": "code",
      "metadata": {
        "colab": {
          "base_uri": "https://localhost:8080/",
          "height": 408
        },
        "id": "HZoEP49rhqnK",
        "outputId": "e12676cb-8ea2-4384-ad86-31e339e2afb3"
      },
      "source": [
        "df[df['total_bill'].between(10,20,inclusive=True)]"
      ],
      "execution_count": null,
      "outputs": [
        {
          "output_type": "execute_result",
          "data": {
            "text/html": [
              "<div>\n",
              "<style scoped>\n",
              "    .dataframe tbody tr th:only-of-type {\n",
              "        vertical-align: middle;\n",
              "    }\n",
              "\n",
              "    .dataframe tbody tr th {\n",
              "        vertical-align: top;\n",
              "    }\n",
              "\n",
              "    .dataframe thead th {\n",
              "        text-align: right;\n",
              "    }\n",
              "</style>\n",
              "<table border=\"1\" class=\"dataframe\">\n",
              "  <thead>\n",
              "    <tr style=\"text-align: right;\">\n",
              "      <th></th>\n",
              "      <th>total_bill</th>\n",
              "      <th>tip</th>\n",
              "      <th>sex</th>\n",
              "      <th>smoker</th>\n",
              "      <th>day</th>\n",
              "      <th>time</th>\n",
              "      <th>size</th>\n",
              "      <th>price_per_person</th>\n",
              "      <th>Payer Name</th>\n",
              "      <th>CC Number</th>\n",
              "      <th>Payment ID</th>\n",
              "      <th>Quality</th>\n",
              "    </tr>\n",
              "  </thead>\n",
              "  <tbody>\n",
              "    <tr>\n",
              "      <th>0</th>\n",
              "      <td>16.99</td>\n",
              "      <td>1.01</td>\n",
              "      <td>Female</td>\n",
              "      <td>No</td>\n",
              "      <td>Sun</td>\n",
              "      <td>Dinner</td>\n",
              "      <td>2</td>\n",
              "      <td>8.49</td>\n",
              "      <td>Christy Cunningham</td>\n",
              "      <td>3410</td>\n",
              "      <td>Sun2959</td>\n",
              "      <td>Other</td>\n",
              "    </tr>\n",
              "    <tr>\n",
              "      <th>1</th>\n",
              "      <td>10.34</td>\n",
              "      <td>1.66</td>\n",
              "      <td>Male</td>\n",
              "      <td>No</td>\n",
              "      <td>Sun</td>\n",
              "      <td>Dinner</td>\n",
              "      <td>3</td>\n",
              "      <td>3.45</td>\n",
              "      <td>Douglas Tucker</td>\n",
              "      <td>9230</td>\n",
              "      <td>Sun4608</td>\n",
              "      <td>Other</td>\n",
              "    </tr>\n",
              "    <tr>\n",
              "      <th>8</th>\n",
              "      <td>15.04</td>\n",
              "      <td>1.96</td>\n",
              "      <td>Male</td>\n",
              "      <td>No</td>\n",
              "      <td>Sun</td>\n",
              "      <td>Dinner</td>\n",
              "      <td>2</td>\n",
              "      <td>7.52</td>\n",
              "      <td>Joseph Mcdonald</td>\n",
              "      <td>0377</td>\n",
              "      <td>Sun6820</td>\n",
              "      <td>Other</td>\n",
              "    </tr>\n",
              "    <tr>\n",
              "      <th>9</th>\n",
              "      <td>14.78</td>\n",
              "      <td>3.23</td>\n",
              "      <td>Male</td>\n",
              "      <td>No</td>\n",
              "      <td>Sun</td>\n",
              "      <td>Dinner</td>\n",
              "      <td>2</td>\n",
              "      <td>7.39</td>\n",
              "      <td>Jerome Abbott</td>\n",
              "      <td>9786</td>\n",
              "      <td>Sun3775</td>\n",
              "      <td>Other</td>\n",
              "    </tr>\n",
              "    <tr>\n",
              "      <th>10</th>\n",
              "      <td>10.27</td>\n",
              "      <td>1.71</td>\n",
              "      <td>Male</td>\n",
              "      <td>No</td>\n",
              "      <td>Sun</td>\n",
              "      <td>Dinner</td>\n",
              "      <td>2</td>\n",
              "      <td>5.14</td>\n",
              "      <td>William Riley</td>\n",
              "      <td>1219</td>\n",
              "      <td>Sun2546</td>\n",
              "      <td>Other</td>\n",
              "    </tr>\n",
              "    <tr>\n",
              "      <th>...</th>\n",
              "      <td>...</td>\n",
              "      <td>...</td>\n",
              "      <td>...</td>\n",
              "      <td>...</td>\n",
              "      <td>...</td>\n",
              "      <td>...</td>\n",
              "      <td>...</td>\n",
              "      <td>...</td>\n",
              "      <td>...</td>\n",
              "      <td>...</td>\n",
              "      <td>...</td>\n",
              "      <td>...</td>\n",
              "    </tr>\n",
              "    <tr>\n",
              "      <th>234</th>\n",
              "      <td>15.53</td>\n",
              "      <td>3.00</td>\n",
              "      <td>Male</td>\n",
              "      <td>Yes</td>\n",
              "      <td>Sat</td>\n",
              "      <td>Dinner</td>\n",
              "      <td>2</td>\n",
              "      <td>7.76</td>\n",
              "      <td>Tracy Douglas</td>\n",
              "      <td>1930</td>\n",
              "      <td>Sat7220</td>\n",
              "      <td>Other</td>\n",
              "    </tr>\n",
              "    <tr>\n",
              "      <th>235</th>\n",
              "      <td>10.07</td>\n",
              "      <td>1.25</td>\n",
              "      <td>Male</td>\n",
              "      <td>No</td>\n",
              "      <td>Sat</td>\n",
              "      <td>Dinner</td>\n",
              "      <td>2</td>\n",
              "      <td>5.04</td>\n",
              "      <td>Sean Gonzalez</td>\n",
              "      <td>7605</td>\n",
              "      <td>Sat4615</td>\n",
              "      <td>Other</td>\n",
              "    </tr>\n",
              "    <tr>\n",
              "      <th>236</th>\n",
              "      <td>12.60</td>\n",
              "      <td>1.00</td>\n",
              "      <td>Male</td>\n",
              "      <td>Yes</td>\n",
              "      <td>Sat</td>\n",
              "      <td>Dinner</td>\n",
              "      <td>2</td>\n",
              "      <td>6.30</td>\n",
              "      <td>Matthew Myers</td>\n",
              "      <td>3965</td>\n",
              "      <td>Sat5032</td>\n",
              "      <td>Other</td>\n",
              "    </tr>\n",
              "    <tr>\n",
              "      <th>242</th>\n",
              "      <td>17.82</td>\n",
              "      <td>1.75</td>\n",
              "      <td>Male</td>\n",
              "      <td>No</td>\n",
              "      <td>Sat</td>\n",
              "      <td>Dinner</td>\n",
              "      <td>2</td>\n",
              "      <td>8.91</td>\n",
              "      <td>Dennis Dixon</td>\n",
              "      <td>0950</td>\n",
              "      <td>Sat17</td>\n",
              "      <td>Other</td>\n",
              "    </tr>\n",
              "    <tr>\n",
              "      <th>243</th>\n",
              "      <td>18.78</td>\n",
              "      <td>3.00</td>\n",
              "      <td>Female</td>\n",
              "      <td>No</td>\n",
              "      <td>Thur</td>\n",
              "      <td>Dinner</td>\n",
              "      <td>2</td>\n",
              "      <td>9.39</td>\n",
              "      <td>Michelle Hardin</td>\n",
              "      <td>8139</td>\n",
              "      <td>Thur672</td>\n",
              "      <td>Other</td>\n",
              "    </tr>\n",
              "  </tbody>\n",
              "</table>\n",
              "<p>130 rows × 12 columns</p>\n",
              "</div>"
            ],
            "text/plain": [
              "     total_bill   tip     sex  ... CC Number Payment ID Quality\n",
              "0         16.99  1.01  Female  ...      3410    Sun2959   Other\n",
              "1         10.34  1.66    Male  ...      9230    Sun4608   Other\n",
              "8         15.04  1.96    Male  ...      0377    Sun6820   Other\n",
              "9         14.78  3.23    Male  ...      9786    Sun3775   Other\n",
              "10        10.27  1.71    Male  ...      1219    Sun2546   Other\n",
              "..          ...   ...     ...  ...       ...        ...     ...\n",
              "234       15.53  3.00    Male  ...      1930    Sat7220   Other\n",
              "235       10.07  1.25    Male  ...      7605    Sat4615   Other\n",
              "236       12.60  1.00    Male  ...      3965    Sat5032   Other\n",
              "242       17.82  1.75    Male  ...      0950      Sat17   Other\n",
              "243       18.78  3.00  Female  ...      8139    Thur672   Other\n",
              "\n",
              "[130 rows x 12 columns]"
            ]
          },
          "metadata": {},
          "execution_count": 26
        }
      ]
    },
    {
      "cell_type": "code",
      "metadata": {
        "colab": {
          "base_uri": "https://localhost:8080/",
          "height": 108
        },
        "id": "LrrRXv1gh1i4",
        "outputId": "5cb07bf1-7314-490b-dd2c-e18f88f51725"
      },
      "source": [
        "df.nlargest(2,'tip')"
      ],
      "execution_count": null,
      "outputs": [
        {
          "output_type": "execute_result",
          "data": {
            "text/html": [
              "<div>\n",
              "<style scoped>\n",
              "    .dataframe tbody tr th:only-of-type {\n",
              "        vertical-align: middle;\n",
              "    }\n",
              "\n",
              "    .dataframe tbody tr th {\n",
              "        vertical-align: top;\n",
              "    }\n",
              "\n",
              "    .dataframe thead th {\n",
              "        text-align: right;\n",
              "    }\n",
              "</style>\n",
              "<table border=\"1\" class=\"dataframe\">\n",
              "  <thead>\n",
              "    <tr style=\"text-align: right;\">\n",
              "      <th></th>\n",
              "      <th>total_bill</th>\n",
              "      <th>tip</th>\n",
              "      <th>sex</th>\n",
              "      <th>smoker</th>\n",
              "      <th>day</th>\n",
              "      <th>time</th>\n",
              "      <th>size</th>\n",
              "      <th>price_per_person</th>\n",
              "      <th>Payer Name</th>\n",
              "      <th>CC Number</th>\n",
              "      <th>Payment ID</th>\n",
              "      <th>Quality</th>\n",
              "    </tr>\n",
              "  </thead>\n",
              "  <tbody>\n",
              "    <tr>\n",
              "      <th>170</th>\n",
              "      <td>50.81</td>\n",
              "      <td>10.0</td>\n",
              "      <td>Male</td>\n",
              "      <td>Yes</td>\n",
              "      <td>Sat</td>\n",
              "      <td>Dinner</td>\n",
              "      <td>3</td>\n",
              "      <td>16.94</td>\n",
              "      <td>Gregory Clark</td>\n",
              "      <td>8236</td>\n",
              "      <td>Sat1954</td>\n",
              "      <td>Other</td>\n",
              "    </tr>\n",
              "    <tr>\n",
              "      <th>212</th>\n",
              "      <td>48.33</td>\n",
              "      <td>9.0</td>\n",
              "      <td>Male</td>\n",
              "      <td>No</td>\n",
              "      <td>Sat</td>\n",
              "      <td>Dinner</td>\n",
              "      <td>4</td>\n",
              "      <td>12.08</td>\n",
              "      <td>Alex Williamson</td>\n",
              "      <td>5212</td>\n",
              "      <td>Sat4590</td>\n",
              "      <td>Other</td>\n",
              "    </tr>\n",
              "  </tbody>\n",
              "</table>\n",
              "</div>"
            ],
            "text/plain": [
              "     total_bill   tip   sex  ... CC Number Payment ID Quality\n",
              "170       50.81  10.0  Male  ...      8236    Sat1954   Other\n",
              "212       48.33   9.0  Male  ...      5212    Sat4590   Other\n",
              "\n",
              "[2 rows x 12 columns]"
            ]
          },
          "metadata": {},
          "execution_count": 27
        }
      ]
    },
    {
      "cell_type": "code",
      "metadata": {
        "colab": {
          "base_uri": "https://localhost:8080/"
        },
        "id": "IIUlsss2h-ZA",
        "outputId": "fd88531d-349a-4f56-8133-838897b58edf"
      },
      "source": [
        "!pip install lxml"
      ],
      "execution_count": null,
      "outputs": [
        {
          "output_type": "stream",
          "name": "stdout",
          "text": [
            "Requirement already satisfied: lxml in /usr/local/lib/python3.7/dist-packages (4.2.6)\n"
          ]
        }
      ]
    },
    {
      "cell_type": "markdown",
      "metadata": {
        "id": "fA75EfzHwyF8"
      },
      "source": [
        "reading data from html\n"
      ]
    },
    {
      "cell_type": "code",
      "metadata": {
        "id": "LWBuzUoJvx6z"
      },
      "source": [
        "url = \"https://en.wikipedia.org/wiki/World_population\""
      ],
      "execution_count": null,
      "outputs": []
    },
    {
      "cell_type": "code",
      "metadata": {
        "id": "sZ3ARdGLwGVP"
      },
      "source": [
        "tables = pd.read_html(url)"
      ],
      "execution_count": null,
      "outputs": []
    },
    {
      "cell_type": "code",
      "metadata": {
        "colab": {
          "base_uri": "https://localhost:8080/"
        },
        "id": "PY6wDoriwJem",
        "outputId": "5da796a2-242c-42aa-9e12-1984b154fa90"
      },
      "source": [
        "tables"
      ],
      "execution_count": null,
      "outputs": [
        {
          "output_type": "execute_result",
          "data": {
            "text/plain": [
              "[        World population (millions, UN estimates)[14]  ...                                                   \n",
              "                                                     #  ...                                            2030[A]\n",
              " 0                                                   1  ...                                               1416\n",
              " 1                                                   2  ...                                               1528\n",
              " 2                                                   3  ...                                                356\n",
              " 3                                                   4  ...                                                295\n",
              " 4                                                   5  ...                                                245\n",
              " 5                                                   6  ...                                                228\n",
              " 6                                                   7  ...                                                263\n",
              " 7                                                   8  ...                                                186\n",
              " 8                                                   9  ...                                                149\n",
              " 9                                                  10  ...                                                148\n",
              " 10                                                NaN  ...                                               8501\n",
              " 11  Notes: .mw-parser-output .reflist{font-size:90...  ...  Notes: .mw-parser-output .reflist{font-size:90...\n",
              " \n",
              " [12 rows x 5 columns],\n",
              "                   Continent  ...             Most populous city (metropolitan area)\n",
              " 0                      Asia  ...  37,393,000/13,929,000 – Greater Tokyo Area/Tok...\n",
              " 1                    Africa  ...                             20,900,000 – Cairo[17]\n",
              " 2                    Europe  ...  16,855,000/12,537,000 – Moscow metropolitan ar...\n",
              " 3             Latin America  ...  22,043,000/12,176,000 – São Paulo Metro Area/S...\n",
              " 4  Northern America[note 2]  ...  23,724,000/8,323,000 – New York metropolitan a...\n",
              " 5                   Oceania  ...                                 4,925,000 – Sydney\n",
              " 6                Antarctica  ...                            1,258 – McMurdo Station\n",
              " \n",
              " [7 rows x 5 columns],\n",
              "   World population milestones in billions (Worldometers estimates)  ...      \n",
              "                                                         Population  ...    10\n",
              " 0                                               Year                ...  2056\n",
              " 1                                      Years elapsed                ...    19\n",
              " \n",
              " [2 rows x 11 columns],\n",
              "                                                    0                                  1\n",
              " 0  .mw-parser-output .legend{page-break-inside:av...  67.5–70 65–67.5 60–65 55–60 50–55,\n",
              "    Rank        Country  ...        Date          Source(official or UN)\n",
              " 0     1          China  ...  8 Oct 2021   National population clock[89]\n",
              " 1     2          India  ...  8 Oct 2021   National population clock[90]\n",
              " 2     3  United States  ...  8 Oct 2021   National population clock[91]\n",
              " 3     4      Indonesia  ...  1 Jul 2020  National annual projection[92]\n",
              " 4     5       Pakistan  ...  1 Jul 2020               UN Projection[93]\n",
              " 5     6         Brazil  ...  8 Oct 2021   National population clock[94]\n",
              " 6     7        Nigeria  ...  1 Jul 2020               UN Projection[93]\n",
              " 7     8     Bangladesh  ...  8 Oct 2021   National population clock[95]\n",
              " 8     9         Russia  ...  1 Jan 2020    National annual estimate[96]\n",
              " 9    10         Mexico  ...  1 Jul 2020  National annual projection[97]\n",
              " \n",
              " [10 rows x 6 columns],\n",
              "    Rank      Country  Population  Area(km2)  Density(pop/km2)\n",
              " 0     1    Singapore     5704000        710              8033\n",
              " 1     2   Bangladesh   171490000     143998              1191\n",
              " 2     3      Lebanon     6856000      10452               656\n",
              " 3     4       Taiwan    23604000      36193               652\n",
              " 4     5  South Korea    51781000      99538               520\n",
              " 5     6       Rwanda    12374000      26338               470\n",
              " 6     7        Haiti    11578000      27065               428\n",
              " 7     8  Netherlands    17640000      41526               425\n",
              " 8     9       Israel     9410000      22072               426\n",
              " 9    10        India  1382840000    3287240               421,\n",
              "    Rank         Country  ...  Density(pop/km2)  Population trend\n",
              " 0     1           India  ...               421           Growing\n",
              " 1     2        Pakistan  ...               280   Rapidly growing\n",
              " 2     3      Bangladesh  ...              1191   Rapidly growing\n",
              " 3     4           Japan  ...               333     Declining[98]\n",
              " 4     5     Philippines  ...               370           Growing\n",
              " 5     6         Vietnam  ...               290           Growing\n",
              " 6     7  United Kingdom  ...               273           Growing\n",
              " 7     8     South Korea  ...               520            Steady\n",
              " 8     9          Taiwan  ...               652            Steady\n",
              " 9    10       Sri Lanka  ...               332           Growing\n",
              " \n",
              " [10 rows x 6 columns],\n",
              "     Year  Population Yearly growth  ... Density(pop/km2) Urban population     \n",
              "     Year  Population             %  ... Density(pop/km2)           Number    %\n",
              " 0   1951  2584034261         1.88%  ...               17        775067697  30%\n",
              " 1   1952  2630861562         1.81%  ...               18        799282533  30%\n",
              " 2   1953  2677608960         1.78%  ...               18        824289989  31%\n",
              " 3   1954  2724846741         1.76%  ...               18        850179106  31%\n",
              " 4   1955  2773019936         1.77%  ...               19        877008842  32%\n",
              " ..   ...         ...           ...  ...              ...              ...  ...\n",
              " 65  2016  7464022000         1.14%  ...               50       4060653000  54%\n",
              " 66  2017  7547859000         1.12%  ...               51       4140189000  55%\n",
              " 67  2018  7631091000         1.10%  ...               51       4219817000  55%\n",
              " 68  2019  7713468000         1.08%  ...               52       4299439000  56%\n",
              " 69  2020  7795000000         1.05%  ...               52       4378900000  56%\n",
              " \n",
              " [70 rows x 7 columns],\n",
              "                      Region  1500  1600  1700  ...  2010  2012  2050  2150\n",
              " 0                     World   585   660   710  ...  6896  7052  9725  9746\n",
              " 1                    Africa    86   114   106  ...  1022  1052  2478  2308\n",
              " 2                      Asia   282   350   411  ...  4164  4250  5267  5561\n",
              " 3                    Europe   168   170   178  ...   738   740   734   517\n",
              " 4     Latin America[Note 1]    40    20    10  ...   590   603   784   912\n",
              " 5  Northern America[Note 1]     6     3     2  ...   345   351   433   398\n",
              " 6                   Oceania     3     3     3  ...    37    38    57    51\n",
              " \n",
              " [7 rows x 15 columns],\n",
              "                      Region  1500  1600  1700  ...  2010  2012  2050  2150\n",
              " 0                    Africa  14.7  17.3  14.9  ...  14.8  15.2  25.5  23.7\n",
              " 1                      Asia  48.2  53.0  57.9  ...  60.4  60.3  54.2  57.1\n",
              " 2                    Europe  28.7  25.8  25.1  ...  10.7  10.5   7.6   5.3\n",
              " 3     Latin America[Note 1]   6.8   3.0   1.4  ...   8.6   8.6   8.1   9.4\n",
              " 4  Northern America[Note 1]   1.0   0.5   0.3  ...   5.0   5.0   4.5   4.1\n",
              " 5                   Oceania   0.5   0.5   0.4  ...   0.5   0.5   0.6   0.5\n",
              " \n",
              " [6 rows x 15 columns],\n",
              "          Year    World  ...  Oceania              Notes\n",
              " 0   70,000 BC  < 0.015  ...      NaN              [116]\n",
              " 1   10,000 BC        4  ...      NaN              [117]\n",
              " 2     8000 BC        5  ...      NaN                NaN\n",
              " 3     6500 BC        5  ...      NaN                NaN\n",
              " 4     5000 BC        5  ...      NaN                NaN\n",
              " 5     4000 BC        7  ...      NaN                NaN\n",
              " 6     3000 BC       14  ...      NaN                NaN\n",
              " 7     2000 BC       27  ...      NaN                NaN\n",
              " 8     1000 BC       50  ...      NaN  [citation needed]\n",
              " 9      500 BC      100  ...      NaN                NaN\n",
              " 10       AD 1      200  ...      NaN                NaN\n",
              " 11       1000      400  ...      2.0                NaN\n",
              " 12       1500      458  ...      3.0                NaN\n",
              " 13       1600      580  ...      3.0                NaN\n",
              " 14       1700      682  ...      3.0                NaN\n",
              " 15       1750      791  ...      2.0                NaN\n",
              " 16       1800     1000  ...      3.0                NaN\n",
              " 17       1850     1262  ...      2.0                NaN\n",
              " 18       1900     1650  ...      6.0                NaN\n",
              " 19       1950     2525  ...     12.7              [118]\n",
              " 20       1955     2758  ...     14.2                NaN\n",
              " 21       1960     3018  ...     15.8                NaN\n",
              " 22       1965     3322  ...     17.5                NaN\n",
              " 23       1970     3682  ...     19.7                NaN\n",
              " 24       1975     4061  ...     21.5                NaN\n",
              " 25       1980     4440  ...     23.0                NaN\n",
              " 26       1985     4853  ...     24.9                NaN\n",
              " 27       1990     5310  ...     27.0                NaN\n",
              " 28       1995     5735  ...     29.1                NaN\n",
              " 29       2000     6127  ...     31.1                NaN\n",
              " 30       2005     6520  ...     33.4                NaN\n",
              " 31       2010     6930  ...     36.4                NaN\n",
              " 32       2015     7349  ...     39.3                NaN\n",
              " \n",
              " [33 rows x 9 columns],\n",
              "     0                                                  1\n",
              " 0 NaN  This section needs additional citations for ve...,\n",
              "    Year  UN est.(millions) Difference  USCB est.(millions) Difference.1\n",
              " 0  2005               6542          –                 6473            –\n",
              " 1  2010               6957        415                 6866          393\n",
              " 2  2015               7380        423                 7256          390\n",
              " 3  2020               7795        415                 7643          380\n",
              " 4  2025               8184        390                 8007          363\n",
              " 5  2030               8549        364                 8341          334\n",
              " 6  2035               8888        339                 8646          306\n",
              " 7  2040               9199        311                 8926          280\n",
              " 8  2045               9482        283                 9180          254\n",
              " 9  2050               9735        253                 9408          228,\n",
              "     Year  World  ... Northern America    Oceania\n",
              " 0   2000   6144  ...       312 (5.1%)  31 (0.5%)\n",
              " 1   2005   6542  ...       327 (5.0%)  34 (0.5%)\n",
              " 2   2010   6957  ...       343 (4.9%)  37 (0.5%)\n",
              " 3   2015   7380  ...       357 (4.8%)  40 (0.5%)\n",
              " 4   2020   7795  ...       369 (4.7%)  43 (0.6%)\n",
              " 5   2025   8184  ...       380 (4.6%)  45 (0.6%)\n",
              " 6   2030   8549  ...       391 (4.6%)  48 (0.6%)\n",
              " 7   2035   8888  ...       401 (4.5%)  50 (0.6%)\n",
              " 8   2040   9199  ...       410 (4.5%)  53 (0.6%)\n",
              " 9   2045   9482  ...       418 (4.4%)  55 (0.6%)\n",
              " 10  2050   9735  ...       425 (4.4%)  57 (0.6%)\n",
              " 11  2055   9958  ...       432 (4.3%)  60 (0.6%)\n",
              " 12  2060  10152  ...       439 (4.3%)  62 (0.6%)\n",
              " 13  2065  10318  ...       447 (4.3%)  64 (0.6%)\n",
              " 14  2070  10459  ...       454 (4.3%)  66 (0.6%)\n",
              " 15  2075  10577  ...       461 (4.4%)  67 (0.6%)\n",
              " 16  2080  10674  ...       468 (4.4%)  69 (0.7%)\n",
              " 17  2085  10750  ...       474 (4.4%)  71 (0.7%)\n",
              " 18  2090  10810  ...       479 (4.4%)  72 (0.7%)\n",
              " 19  2095  10852  ...       485 (4.5%)  74 (0.7%)\n",
              " 20  2100  10875  ...       491 (4.5%)  75 (0.7%)\n",
              " \n",
              " [21 rows x 8 columns],\n",
              "   Population(in billions)            0.5  0.5.1     1  ...     4   4.1     8     8.1\n",
              " 0                    Year           1500   1500  1804  ...  1974  1974  2024  2024.0\n",
              " 1           Years elapsed  Years elapsed    304   304  ...    47    50    50     NaN\n",
              " \n",
              " [2 rows x 11 columns],\n",
              "   Population(in billions)          0.375  0.375.1  ...   3.1     6     6.1\n",
              " 0                    Year           1171     1171  ...  1960  1999  1999.0\n",
              " 1           Years elapsed  Years elapsed      544  ...    39    39     NaN\n",
              " \n",
              " [2 rows x 11 columns],\n",
              "     0                                                  1\n",
              " 0 NaN  Wikimedia Commons has media related to World p...,\n",
              "   .mw-parser-output .navbar{display:inline;font-size:88%;font-weight:normal}.mw-parser-output .navbar-collapse{float:left;text-align:left}.mw-parser-output .navbar-boxtext{word-spacing:0}.mw-parser-output .navbar ul{display:inline-block;white-space:nowrap;line-height:inherit}.mw-parser-output .navbar-brackets::before{margin-right:-0.125em;content:\"[ \"}.mw-parser-output .navbar-brackets::after{margin-left:-0.125em;content:\" ]\"}.mw-parser-output .navbar li{word-spacing:-0.125em}.mw-parser-output .navbar-mini abbr{font-variant:small-caps;border-bottom:none;text-decoration:none;cursor:inherit}.mw-parser-output .navbar-ct-full{font-size:114%;margin:0 7em}.mw-parser-output .navbar-ct-mini{font-size:114%;margin:0 4em}.mw-parser-output .infobox .navbar{font-size:100%}.mw-parser-output .navbox .navbar{display:block;font-size:100%}.mw-parser-output .navbox-title .navbar{float:left;text-align:left;margin-right:0.5em}vteGlobal human population .mw-parser-output .navbar{display:inline;font-size:88%;font-weight:normal}.mw-parser-output .navbar-collapse{float:left;text-align:left}.mw-parser-output .navbar-boxtext{word-spacing:0}.mw-parser-output .navbar ul{display:inline-block;white-space:nowrap;line-height:inherit}.mw-parser-output .navbar-brackets::before{margin-right:-0.125em;content:\"[ \"}.mw-parser-output .navbar-brackets::after{margin-left:-0.125em;content:\" ]\"}.mw-parser-output .navbar li{word-spacing:-0.125em}.mw-parser-output .navbar-mini abbr{font-variant:small-caps;border-bottom:none;text-decoration:none;cursor:inherit}.mw-parser-output .navbar-ct-full{font-size:114%;margin:0 7em}.mw-parser-output .navbar-ct-mini{font-size:114%;margin:0 4em}.mw-parser-output .infobox .navbar{font-size:100%}.mw-parser-output .navbox .navbar{display:block;font-size:100%}.mw-parser-output .navbox-title .navbar{float:left;text-align:left;margin-right:0.5em}vteGlobal human population.1\n",
              " 0                                       Major topics                                                                                                                                                                                                                                                                                                                                                                                                                                                                                                                                                                                                                                                                                                                                                                                                                                                                                                                               Biocapacity Demographics of the world Human ov...                                                                                                                                                                                                                                                                                                                                                                                                                                                                                                                                                                                                                                                                                                                                                                                                                                                                                                                               \n",
              " 1                       Biological andrelated topics                                                                                                                                                                                                                                                                                                                                                                                                                                                                                                                                                                                                                                                                                                                                                                                                                                                                                                                               Population biology Population decline Populati...                                                                                                                                                                                                                                                                                                                                                                                                                                                                                                                                                                                                                                                                                                                                                                                                                                                                                                                               \n",
              " 2                                  Populationecology                                                                                                                                                                                                                                                                                                                                                                                                                                                                                                                                                                                                                                                                                                                                                                                                                                                                                                                               Earth's energy budget I = P × A × T Kaya ident...                                                                                                                                                                                                                                                                                                                                                                                                                                                                                                                                                                                                                                                                                                                                                                                                                                                                                                                               \n",
              " 3                                         Literature                                                                                                                                                                                                                                                                                                                                                                                                                                                                                                                                                                                                                                                                                                                                                                                                                                                                                                                               A Modest Proposal Observations Concerning the ...                                                                                                                                                                                                                                                                                                                                                                                                                                                                                                                                                                                                                                                                                                                                                                                                                                                                                                                               \n",
              " 4                                       Publications                                                                                                                                                                                                                                                                                                                                                                                                                                                                                                                                                                                                                                                                                                                                                                                                                                                                                                                               Population and Environment Population and Deve...                                                                                                                                                                                                                                                                                                                                                                                                                                                                                                                                                                                                                                                                                                                                                                                                                                                                                                                               \n",
              " 5                                              Lists                                                                                                                                                                                                                                                                                                                                                                                                                                                                                                                                                                                                                                                                                                                                                                                                                                                                                                                               Population and housing censuses by country Met...                                                                                                                                                                                                                                                                                                                                                                                                                                                                                                                                                                                                                                                                                                                                                                                                                                                                                                                               \n",
              " 6                            Events andorganizations                                                                                                                                                                                                                                                                                                                                                                                                                                                                                                                                                                                                                                                                                                                                                                                                                                                                                                                               7 Billion Actions International Conference on ...                                                                                                                                                                                                                                                                                                                                                                                                                                                                                                                                                                                                                                                                                                                                                                                                                                                                                                                               \n",
              " 7                                     Related topics                                                                                                                                                                                                                                                                                                                                                                                                                                                                                                                                                                                                                                                                                                                                                                                                                                                                                                                               Deep ecology Fertility and intelligence Green ...                                                                                                                                                                                                                                                                                                                                                                                                                                                                                                                                                                                                                                                                                                                                                                                                                                                                                                                               \n",
              " 8  Commons  Human overpopulation Human activities...                                                                                                                                                                                                                                                                                                                                                                                                                                                                                                                                                                                                                                                                                                                                                                                                                                                                                                                               Commons  Human overpopulation Human activities...                                                                                                                                                                                                                                                                                                                                                                                                                                                                                                                                                                                                                                                                                                                                                                                                                                                                                                                               ,\n",
              "            Articles related to the world's population       Articles related to the world's population.1\n",
              " 0   vteAnthropogenic effects on the environmentGen...  vteAnthropogenic effects on the environmentGen...\n",
              " 1         vteAnthropogenic effects on the environment        vteAnthropogenic effects on the environment\n",
              " 2                                             General  Anthropocene Environmental issues list of issu...\n",
              " 3                                              Causes  Agriculture cannabis cultivation irrigation me...\n",
              " 4                                             Effects  Biodiversity threats biodiversity loss decline...\n",
              " 5                                          Mitigation  Alternative fuel vehicle propulsion Birth cont...\n",
              " 6   Commons  Category by country assessment mitiga...  Commons  Category by country assessment mitiga...\n",
              " 7      vteLists of countries by population statistics     vteLists of countries by population statistics\n",
              " 8                                              Global       Current population Demographics of the world\n",
              " 9                               Continents/subregions  Africa Antarctica Asia Europe North America Ca...\n",
              " 10                                   Intercontinental  Americas Arab world Commonwealth of Nations Eu...\n",
              " 11                                 Cities/urban areas  World cities National capitals Megacities Mega...\n",
              " 12                                    Past and future  Past and future population World population es...\n",
              " 13                                 Population density  Current density Past and future population den...\n",
              " 14                                  Growth indicators  Population growth rate Natural increase Birth ...\n",
              " 15                                 Other demographics  Age at first marriage Age structure Dependency...\n",
              " 16                                             Health  Antidepressant consumption Antiviral medicatio...\n",
              " 17                           Education and innovation  Bloomberg Innovation Index Education Index Int...\n",
              " 18                                           Economic  Access to financial services Development aid g...\n",
              " 19    List of international rankings Lists by country    List of international rankings Lists by country\n",
              " 20                               vteHierarchy of life                               vteHierarchy of life\n",
              " 21  Biosphere > Biome > Ecosystem > Biocenosis > P...  Biosphere > Biome > Ecosystem > Biocenosis > P...\n",
              " 22                                   vteGlobalization                                   vteGlobalization\n",
              " 23                          Journals  Outline Studies                          Journals  Outline Studies\n",
              " 24                                            Aspects  Alter-globalization Anti-globalization Cultura...\n",
              " 25                                             Issues  .mw-parser-output .nobold{font-weight:normal}G...\n",
              " 26  .mw-parser-output .nobold{font-weight:normal}G...  Climate change Climate justice Disease COVID-1...\n",
              " 27                                              Other  Brain drain reverse Care drain Development aid...\n",
              " 28                                           Theories  Capital accumulation Dependency Development Ea...\n",
              " 29                                    Notablescholars  Economics Ravi Batra Jagdish Bhagwati Robert B...\n",
              " 30                                          Economics  Ravi Batra Jagdish Bhagwati Robert Brenner Jay...\n",
              " 31                                  Political economy  Samir Amin Giovanni Arrighi Robert W. Cox Andr...\n",
              " 32                               Politics / sociology  Arjun Appadurai Daniele Archibugi K. Anthony A...\n",
              " 33                                       Non–academic  Noam Chomsky Thomas Friedman Naomi Klein John ...\n",
              " 34                          Category  Business portal                          Category  Business portal,\n",
              "          vteAnthropogenic effects on the environment      vteAnthropogenic effects on the environment.1\n",
              " 0                                            General  Anthropocene Environmental issues list of issu...\n",
              " 1                                             Causes  Agriculture cannabis cultivation irrigation me...\n",
              " 2                                            Effects  Biodiversity threats biodiversity loss decline...\n",
              " 3                                         Mitigation  Alternative fuel vehicle propulsion Birth cont...\n",
              " 4  Commons  Category by country assessment mitiga...  Commons  Category by country assessment mitiga...,\n",
              "      vteLists of countries by population statistics   vteLists of countries by population statistics.1\n",
              " 0                                            Global       Current population Demographics of the world\n",
              " 1                             Continents/subregions  Africa Antarctica Asia Europe North America Ca...\n",
              " 2                                  Intercontinental  Americas Arab world Commonwealth of Nations Eu...\n",
              " 3                                Cities/urban areas  World cities National capitals Megacities Mega...\n",
              " 4                                   Past and future  Past and future population World population es...\n",
              " 5                                Population density  Current density Past and future population den...\n",
              " 6                                 Growth indicators  Population growth rate Natural increase Birth ...\n",
              " 7                                Other demographics  Age at first marriage Age structure Dependency...\n",
              " 8                                            Health  Antidepressant consumption Antiviral medicatio...\n",
              " 9                          Education and innovation  Bloomberg Innovation Index Education Index Int...\n",
              " 10                                         Economic  Access to financial services Development aid g...\n",
              " 11  List of international rankings Lists by country    List of international rankings Lists by country,\n",
              "                                 vteHierarchy of life                             vteHierarchy of life.1\n",
              " 0  Biosphere > Biome > Ecosystem > Biocenosis > P...  Biosphere > Biome > Ecosystem > Biocenosis > P...,\n",
              "                                      vteGlobalization                                 vteGlobalization.1\n",
              " 0                           Journals  Outline Studies                          Journals  Outline Studies\n",
              " 1                                             Aspects  Alter-globalization Anti-globalization Cultura...\n",
              " 2                                              Issues  .mw-parser-output .nobold{font-weight:normal}G...\n",
              " 3   .mw-parser-output .nobold{font-weight:normal}G...  Climate change Climate justice Disease COVID-1...\n",
              " 4                                               Other  Brain drain reverse Care drain Development aid...\n",
              " 5                                            Theories  Capital accumulation Dependency Development Ea...\n",
              " 6                                     Notablescholars  Economics Ravi Batra Jagdish Bhagwati Robert B...\n",
              " 7                                           Economics  Ravi Batra Jagdish Bhagwati Robert Brenner Jay...\n",
              " 8                                   Political economy  Samir Amin Giovanni Arrighi Robert W. Cox Andr...\n",
              " 9                                Politics / sociology  Arjun Appadurai Daniele Archibugi K. Anthony A...\n",
              " 10                                       Non–academic  Noam Chomsky Thomas Friedman Naomi Klein John ...\n",
              " 11                          Category  Business portal                          Category  Business portal,\n",
              "                                                    0                                                  1\n",
              " 0  .mw-parser-output .nobold{font-weight:normal}G...  Climate change Climate justice Disease COVID-1...\n",
              " 1                                              Other  Brain drain reverse Care drain Development aid...,\n",
              "                       0                                                  1\n",
              " 0             Economics  Ravi Batra Jagdish Bhagwati Robert Brenner Jay...\n",
              " 1     Political economy  Samir Amin Giovanni Arrighi Robert W. Cox Andr...\n",
              " 2  Politics / sociology  Arjun Appadurai Daniele Archibugi K. Anthony A...\n",
              " 3          Non–academic  Noam Chomsky Thomas Friedman Naomi Klein John ...,\n",
              "   Authority control                  Authority control.1\n",
              " 0           General  Integrated Authority File (Germany)\n",
              " 1             Other                   Microsoft Academic]"
            ]
          },
          "metadata": {},
          "execution_count": 31
        }
      ]
    },
    {
      "cell_type": "code",
      "metadata": {
        "colab": {
          "base_uri": "https://localhost:8080/",
          "height": 312
        },
        "id": "MTfyR7zGwMYf",
        "outputId": "94530d15-019e-4d5e-d352-3a88f7e9b83a"
      },
      "source": [
        "table = pd.read_html('wiki.html')\n",
        "table"
      ],
      "execution_count": null,
      "outputs": [
        {
          "output_type": "error",
          "ename": "ValueError",
          "evalue": "ignored",
          "traceback": [
            "\u001b[0;31m---------------------------------------------------------------------------\u001b[0m",
            "\u001b[0;31mValueError\u001b[0m                                Traceback (most recent call last)",
            "\u001b[0;32m<ipython-input-32-089937ec4dba>\u001b[0m in \u001b[0;36m<module>\u001b[0;34m()\u001b[0m\n\u001b[0;32m----> 1\u001b[0;31m \u001b[0mtable\u001b[0m \u001b[0;34m=\u001b[0m \u001b[0mpd\u001b[0m\u001b[0;34m.\u001b[0m\u001b[0mread_html\u001b[0m\u001b[0;34m(\u001b[0m\u001b[0;34m'wiki.html'\u001b[0m\u001b[0;34m)\u001b[0m\u001b[0;34m\u001b[0m\u001b[0;34m\u001b[0m\u001b[0m\n\u001b[0m\u001b[1;32m      2\u001b[0m \u001b[0mtable\u001b[0m\u001b[0;34m\u001b[0m\u001b[0;34m\u001b[0m\u001b[0m\n",
            "\u001b[0;32m/usr/local/lib/python3.7/dist-packages/pandas/util/_decorators.py\u001b[0m in \u001b[0;36mwrapper\u001b[0;34m(*args, **kwargs)\u001b[0m\n\u001b[1;32m    294\u001b[0m                 )\n\u001b[1;32m    295\u001b[0m                 \u001b[0mwarnings\u001b[0m\u001b[0;34m.\u001b[0m\u001b[0mwarn\u001b[0m\u001b[0;34m(\u001b[0m\u001b[0mmsg\u001b[0m\u001b[0;34m,\u001b[0m \u001b[0mFutureWarning\u001b[0m\u001b[0;34m,\u001b[0m \u001b[0mstacklevel\u001b[0m\u001b[0;34m=\u001b[0m\u001b[0mstacklevel\u001b[0m\u001b[0;34m)\u001b[0m\u001b[0;34m\u001b[0m\u001b[0;34m\u001b[0m\u001b[0m\n\u001b[0;32m--> 296\u001b[0;31m             \u001b[0;32mreturn\u001b[0m \u001b[0mfunc\u001b[0m\u001b[0;34m(\u001b[0m\u001b[0;34m*\u001b[0m\u001b[0margs\u001b[0m\u001b[0;34m,\u001b[0m \u001b[0;34m**\u001b[0m\u001b[0mkwargs\u001b[0m\u001b[0;34m)\u001b[0m\u001b[0;34m\u001b[0m\u001b[0;34m\u001b[0m\u001b[0m\n\u001b[0m\u001b[1;32m    297\u001b[0m \u001b[0;34m\u001b[0m\u001b[0m\n\u001b[1;32m    298\u001b[0m         \u001b[0;32mreturn\u001b[0m \u001b[0mwrapper\u001b[0m\u001b[0;34m\u001b[0m\u001b[0;34m\u001b[0m\u001b[0m\n",
            "\u001b[0;32m/usr/local/lib/python3.7/dist-packages/pandas/io/html.py\u001b[0m in \u001b[0;36mread_html\u001b[0;34m(io, match, flavor, header, index_col, skiprows, attrs, parse_dates, thousands, encoding, decimal, converters, na_values, keep_default_na, displayed_only)\u001b[0m\n\u001b[1;32m   1099\u001b[0m         \u001b[0mna_values\u001b[0m\u001b[0;34m=\u001b[0m\u001b[0mna_values\u001b[0m\u001b[0;34m,\u001b[0m\u001b[0;34m\u001b[0m\u001b[0;34m\u001b[0m\u001b[0m\n\u001b[1;32m   1100\u001b[0m         \u001b[0mkeep_default_na\u001b[0m\u001b[0;34m=\u001b[0m\u001b[0mkeep_default_na\u001b[0m\u001b[0;34m,\u001b[0m\u001b[0;34m\u001b[0m\u001b[0;34m\u001b[0m\u001b[0m\n\u001b[0;32m-> 1101\u001b[0;31m         \u001b[0mdisplayed_only\u001b[0m\u001b[0;34m=\u001b[0m\u001b[0mdisplayed_only\u001b[0m\u001b[0;34m,\u001b[0m\u001b[0;34m\u001b[0m\u001b[0;34m\u001b[0m\u001b[0m\n\u001b[0m\u001b[1;32m   1102\u001b[0m     )\n",
            "\u001b[0;32m/usr/local/lib/python3.7/dist-packages/pandas/io/html.py\u001b[0m in \u001b[0;36m_parse\u001b[0;34m(flavor, io, match, attrs, encoding, displayed_only, **kwargs)\u001b[0m\n\u001b[1;32m    915\u001b[0m             \u001b[0;32mbreak\u001b[0m\u001b[0;34m\u001b[0m\u001b[0;34m\u001b[0m\u001b[0m\n\u001b[1;32m    916\u001b[0m     \u001b[0;32melse\u001b[0m\u001b[0;34m:\u001b[0m\u001b[0;34m\u001b[0m\u001b[0;34m\u001b[0m\u001b[0m\n\u001b[0;32m--> 917\u001b[0;31m         \u001b[0;32mraise\u001b[0m \u001b[0mretained\u001b[0m\u001b[0;34m\u001b[0m\u001b[0;34m\u001b[0m\u001b[0m\n\u001b[0m\u001b[1;32m    918\u001b[0m \u001b[0;34m\u001b[0m\u001b[0m\n\u001b[1;32m    919\u001b[0m     \u001b[0mret\u001b[0m \u001b[0;34m=\u001b[0m \u001b[0;34m[\u001b[0m\u001b[0;34m]\u001b[0m\u001b[0;34m\u001b[0m\u001b[0;34m\u001b[0m\u001b[0m\n",
            "\u001b[0;32m/usr/local/lib/python3.7/dist-packages/pandas/io/html.py\u001b[0m in \u001b[0;36m_parse\u001b[0;34m(flavor, io, match, attrs, encoding, displayed_only, **kwargs)\u001b[0m\n\u001b[1;32m    896\u001b[0m \u001b[0;34m\u001b[0m\u001b[0m\n\u001b[1;32m    897\u001b[0m         \u001b[0;32mtry\u001b[0m\u001b[0;34m:\u001b[0m\u001b[0;34m\u001b[0m\u001b[0;34m\u001b[0m\u001b[0m\n\u001b[0;32m--> 898\u001b[0;31m             \u001b[0mtables\u001b[0m \u001b[0;34m=\u001b[0m \u001b[0mp\u001b[0m\u001b[0;34m.\u001b[0m\u001b[0mparse_tables\u001b[0m\u001b[0;34m(\u001b[0m\u001b[0;34m)\u001b[0m\u001b[0;34m\u001b[0m\u001b[0;34m\u001b[0m\u001b[0m\n\u001b[0m\u001b[1;32m    899\u001b[0m         \u001b[0;32mexcept\u001b[0m \u001b[0mValueError\u001b[0m \u001b[0;32mas\u001b[0m \u001b[0mcaught\u001b[0m\u001b[0;34m:\u001b[0m\u001b[0;34m\u001b[0m\u001b[0;34m\u001b[0m\u001b[0m\n\u001b[1;32m    900\u001b[0m             \u001b[0;31m# if `io` is an io-like object, check if it's seekable\u001b[0m\u001b[0;34m\u001b[0m\u001b[0;34m\u001b[0m\u001b[0;34m\u001b[0m\u001b[0m\n",
            "\u001b[0;32m/usr/local/lib/python3.7/dist-packages/pandas/io/html.py\u001b[0m in \u001b[0;36mparse_tables\u001b[0;34m(self)\u001b[0m\n\u001b[1;32m    215\u001b[0m         \u001b[0mlist\u001b[0m \u001b[0mof\u001b[0m \u001b[0mparsed\u001b[0m \u001b[0;34m(\u001b[0m\u001b[0mheader\u001b[0m\u001b[0;34m,\u001b[0m \u001b[0mbody\u001b[0m\u001b[0;34m,\u001b[0m \u001b[0mfooter\u001b[0m\u001b[0;34m)\u001b[0m \u001b[0mtuples\u001b[0m \u001b[0;32mfrom\u001b[0m \u001b[0mtables\u001b[0m\u001b[0;34m.\u001b[0m\u001b[0;34m\u001b[0m\u001b[0;34m\u001b[0m\u001b[0m\n\u001b[1;32m    216\u001b[0m         \"\"\"\n\u001b[0;32m--> 217\u001b[0;31m         \u001b[0mtables\u001b[0m \u001b[0;34m=\u001b[0m \u001b[0mself\u001b[0m\u001b[0;34m.\u001b[0m\u001b[0m_parse_tables\u001b[0m\u001b[0;34m(\u001b[0m\u001b[0mself\u001b[0m\u001b[0;34m.\u001b[0m\u001b[0m_build_doc\u001b[0m\u001b[0;34m(\u001b[0m\u001b[0;34m)\u001b[0m\u001b[0;34m,\u001b[0m \u001b[0mself\u001b[0m\u001b[0;34m.\u001b[0m\u001b[0mmatch\u001b[0m\u001b[0;34m,\u001b[0m \u001b[0mself\u001b[0m\u001b[0;34m.\u001b[0m\u001b[0mattrs\u001b[0m\u001b[0;34m)\u001b[0m\u001b[0;34m\u001b[0m\u001b[0;34m\u001b[0m\u001b[0m\n\u001b[0m\u001b[1;32m    218\u001b[0m         \u001b[0;32mreturn\u001b[0m \u001b[0;34m(\u001b[0m\u001b[0mself\u001b[0m\u001b[0;34m.\u001b[0m\u001b[0m_parse_thead_tbody_tfoot\u001b[0m\u001b[0;34m(\u001b[0m\u001b[0mtable\u001b[0m\u001b[0;34m)\u001b[0m \u001b[0;32mfor\u001b[0m \u001b[0mtable\u001b[0m \u001b[0;32min\u001b[0m \u001b[0mtables\u001b[0m\u001b[0;34m)\u001b[0m\u001b[0;34m\u001b[0m\u001b[0;34m\u001b[0m\u001b[0m\n\u001b[1;32m    219\u001b[0m \u001b[0;34m\u001b[0m\u001b[0m\n",
            "\u001b[0;32m/usr/local/lib/python3.7/dist-packages/pandas/io/html.py\u001b[0m in \u001b[0;36m_parse_tables\u001b[0;34m(self, doc, match, attrs)\u001b[0m\n\u001b[1;32m    545\u001b[0m \u001b[0;34m\u001b[0m\u001b[0m\n\u001b[1;32m    546\u001b[0m         \u001b[0;32mif\u001b[0m \u001b[0;32mnot\u001b[0m \u001b[0mtables\u001b[0m\u001b[0;34m:\u001b[0m\u001b[0;34m\u001b[0m\u001b[0;34m\u001b[0m\u001b[0m\n\u001b[0;32m--> 547\u001b[0;31m             \u001b[0;32mraise\u001b[0m \u001b[0mValueError\u001b[0m\u001b[0;34m(\u001b[0m\u001b[0;34m\"No tables found\"\u001b[0m\u001b[0;34m)\u001b[0m\u001b[0;34m\u001b[0m\u001b[0;34m\u001b[0m\u001b[0m\n\u001b[0m\u001b[1;32m    548\u001b[0m \u001b[0;34m\u001b[0m\u001b[0m\n\u001b[1;32m    549\u001b[0m         \u001b[0mresult\u001b[0m \u001b[0;34m=\u001b[0m \u001b[0;34m[\u001b[0m\u001b[0;34m]\u001b[0m\u001b[0;34m\u001b[0m\u001b[0;34m\u001b[0m\u001b[0m\n",
            "\u001b[0;31mValueError\u001b[0m: No tables found"
          ]
        }
      ]
    },
    {
      "cell_type": "code",
      "metadata": {
        "colab": {
          "base_uri": "https://localhost:8080/"
        },
        "id": "CTxJ29G0wl8K",
        "outputId": "8166d5f0-f4a4-4b90-8782-4d024e677d53"
      },
      "source": [
        "len(tables)"
      ],
      "execution_count": null,
      "outputs": [
        {
          "output_type": "execute_result",
          "data": {
            "text/plain": [
              "26"
            ]
          },
          "metadata": {},
          "execution_count": 33
        }
      ]
    },
    {
      "cell_type": "code",
      "metadata": {
        "colab": {
          "base_uri": "https://localhost:8080/",
          "height": 441
        },
        "id": "zxWyWqqvwt2j",
        "outputId": "a37f5207-a609-4e89-c1d5-1e02f704b6bf"
      },
      "source": [
        "tables[0]"
      ],
      "execution_count": null,
      "outputs": [
        {
          "output_type": "execute_result",
          "data": {
            "text/html": [
              "<div>\n",
              "<style scoped>\n",
              "    .dataframe tbody tr th:only-of-type {\n",
              "        vertical-align: middle;\n",
              "    }\n",
              "\n",
              "    .dataframe tbody tr th {\n",
              "        vertical-align: top;\n",
              "    }\n",
              "\n",
              "    .dataframe thead tr th {\n",
              "        text-align: left;\n",
              "    }\n",
              "</style>\n",
              "<table border=\"1\" class=\"dataframe\">\n",
              "  <thead>\n",
              "    <tr>\n",
              "      <th></th>\n",
              "      <th colspan=\"5\" halign=\"left\">World population (millions, UN estimates)[14]</th>\n",
              "    </tr>\n",
              "    <tr>\n",
              "      <th></th>\n",
              "      <th>#</th>\n",
              "      <th>Top ten most populous countries</th>\n",
              "      <th>2000</th>\n",
              "      <th>2015</th>\n",
              "      <th>2030[A]</th>\n",
              "    </tr>\n",
              "  </thead>\n",
              "  <tbody>\n",
              "    <tr>\n",
              "      <th>0</th>\n",
              "      <td>1</td>\n",
              "      <td>China[B]</td>\n",
              "      <td>1270</td>\n",
              "      <td>1376</td>\n",
              "      <td>1416</td>\n",
              "    </tr>\n",
              "    <tr>\n",
              "      <th>1</th>\n",
              "      <td>2</td>\n",
              "      <td>India</td>\n",
              "      <td>1053</td>\n",
              "      <td>1311</td>\n",
              "      <td>1528</td>\n",
              "    </tr>\n",
              "    <tr>\n",
              "      <th>2</th>\n",
              "      <td>3</td>\n",
              "      <td>United States</td>\n",
              "      <td>283</td>\n",
              "      <td>322</td>\n",
              "      <td>356</td>\n",
              "    </tr>\n",
              "    <tr>\n",
              "      <th>3</th>\n",
              "      <td>4</td>\n",
              "      <td>Indonesia</td>\n",
              "      <td>212</td>\n",
              "      <td>258</td>\n",
              "      <td>295</td>\n",
              "    </tr>\n",
              "    <tr>\n",
              "      <th>4</th>\n",
              "      <td>5</td>\n",
              "      <td>Pakistan</td>\n",
              "      <td>136</td>\n",
              "      <td>208</td>\n",
              "      <td>245</td>\n",
              "    </tr>\n",
              "    <tr>\n",
              "      <th>5</th>\n",
              "      <td>6</td>\n",
              "      <td>Brazil</td>\n",
              "      <td>176</td>\n",
              "      <td>206</td>\n",
              "      <td>228</td>\n",
              "    </tr>\n",
              "    <tr>\n",
              "      <th>6</th>\n",
              "      <td>7</td>\n",
              "      <td>Nigeria</td>\n",
              "      <td>123</td>\n",
              "      <td>182</td>\n",
              "      <td>263</td>\n",
              "    </tr>\n",
              "    <tr>\n",
              "      <th>7</th>\n",
              "      <td>8</td>\n",
              "      <td>Bangladesh</td>\n",
              "      <td>131</td>\n",
              "      <td>161</td>\n",
              "      <td>186</td>\n",
              "    </tr>\n",
              "    <tr>\n",
              "      <th>8</th>\n",
              "      <td>9</td>\n",
              "      <td>Russia</td>\n",
              "      <td>146</td>\n",
              "      <td>146</td>\n",
              "      <td>149</td>\n",
              "    </tr>\n",
              "    <tr>\n",
              "      <th>9</th>\n",
              "      <td>10</td>\n",
              "      <td>Mexico</td>\n",
              "      <td>103</td>\n",
              "      <td>127</td>\n",
              "      <td>148</td>\n",
              "    </tr>\n",
              "    <tr>\n",
              "      <th>10</th>\n",
              "      <td>NaN</td>\n",
              "      <td>World total</td>\n",
              "      <td>6127</td>\n",
              "      <td>7349</td>\n",
              "      <td>8501</td>\n",
              "    </tr>\n",
              "    <tr>\n",
              "      <th>11</th>\n",
              "      <td>Notes: .mw-parser-output .reflist{font-size:90...</td>\n",
              "      <td>Notes: .mw-parser-output .reflist{font-size:90...</td>\n",
              "      <td>Notes: .mw-parser-output .reflist{font-size:90...</td>\n",
              "      <td>Notes: .mw-parser-output .reflist{font-size:90...</td>\n",
              "      <td>Notes: .mw-parser-output .reflist{font-size:90...</td>\n",
              "    </tr>\n",
              "  </tbody>\n",
              "</table>\n",
              "</div>"
            ],
            "text/plain": [
              "        World population (millions, UN estimates)[14]  ...                                                   \n",
              "                                                    #  ...                                            2030[A]\n",
              "0                                                   1  ...                                               1416\n",
              "1                                                   2  ...                                               1528\n",
              "2                                                   3  ...                                                356\n",
              "3                                                   4  ...                                                295\n",
              "4                                                   5  ...                                                245\n",
              "5                                                   6  ...                                                228\n",
              "6                                                   7  ...                                                263\n",
              "7                                                   8  ...                                                186\n",
              "8                                                   9  ...                                                149\n",
              "9                                                  10  ...                                                148\n",
              "10                                                NaN  ...                                               8501\n",
              "11  Notes: .mw-parser-output .reflist{font-size:90...  ...  Notes: .mw-parser-output .reflist{font-size:90...\n",
              "\n",
              "[12 rows x 5 columns]"
            ]
          },
          "metadata": {},
          "execution_count": 34
        }
      ]
    },
    {
      "cell_type": "code",
      "metadata": {
        "colab": {
          "base_uri": "https://localhost:8080/"
        },
        "id": "TGdatogfw4rc",
        "outputId": "3a6afd2b-e409-43b8-9b57-3c9237b2c9b6"
      },
      "source": [
        "tables[0].columns"
      ],
      "execution_count": null,
      "outputs": [
        {
          "output_type": "execute_result",
          "data": {
            "text/plain": [
              "MultiIndex([('World population (millions, UN estimates)[14]', ...),\n",
              "            ('World population (millions, UN estimates)[14]', ...),\n",
              "            ('World population (millions, UN estimates)[14]', ...),\n",
              "            ('World population (millions, UN estimates)[14]', ...),\n",
              "            ('World population (millions, UN estimates)[14]', ...)],\n",
              "           )"
            ]
          },
          "metadata": {},
          "execution_count": 35
        }
      ]
    },
    {
      "cell_type": "code",
      "metadata": {
        "id": "LHFuLYFvxI8u"
      },
      "source": [
        "worldtopten = tables[0]\n",
        "worldtopten = worldtopten['World population (millions, UN estimates)[14]']"
      ],
      "execution_count": null,
      "outputs": []
    },
    {
      "cell_type": "code",
      "metadata": {
        "colab": {
          "base_uri": "https://localhost:8080/",
          "height": 411
        },
        "id": "WF7Vj6caxYVh",
        "outputId": "ae8249a6-5bff-42f6-de03-8be30f2caeb5"
      },
      "source": [
        "worldtopten"
      ],
      "execution_count": null,
      "outputs": [
        {
          "output_type": "execute_result",
          "data": {
            "text/html": [
              "<div>\n",
              "<style scoped>\n",
              "    .dataframe tbody tr th:only-of-type {\n",
              "        vertical-align: middle;\n",
              "    }\n",
              "\n",
              "    .dataframe tbody tr th {\n",
              "        vertical-align: top;\n",
              "    }\n",
              "\n",
              "    .dataframe thead th {\n",
              "        text-align: right;\n",
              "    }\n",
              "</style>\n",
              "<table border=\"1\" class=\"dataframe\">\n",
              "  <thead>\n",
              "    <tr style=\"text-align: right;\">\n",
              "      <th></th>\n",
              "      <th>#</th>\n",
              "      <th>Top ten most populous countries</th>\n",
              "      <th>2000</th>\n",
              "      <th>2015</th>\n",
              "      <th>2030[A]</th>\n",
              "    </tr>\n",
              "  </thead>\n",
              "  <tbody>\n",
              "    <tr>\n",
              "      <th>0</th>\n",
              "      <td>1</td>\n",
              "      <td>China[B]</td>\n",
              "      <td>1270</td>\n",
              "      <td>1376</td>\n",
              "      <td>1416</td>\n",
              "    </tr>\n",
              "    <tr>\n",
              "      <th>1</th>\n",
              "      <td>2</td>\n",
              "      <td>India</td>\n",
              "      <td>1053</td>\n",
              "      <td>1311</td>\n",
              "      <td>1528</td>\n",
              "    </tr>\n",
              "    <tr>\n",
              "      <th>2</th>\n",
              "      <td>3</td>\n",
              "      <td>United States</td>\n",
              "      <td>283</td>\n",
              "      <td>322</td>\n",
              "      <td>356</td>\n",
              "    </tr>\n",
              "    <tr>\n",
              "      <th>3</th>\n",
              "      <td>4</td>\n",
              "      <td>Indonesia</td>\n",
              "      <td>212</td>\n",
              "      <td>258</td>\n",
              "      <td>295</td>\n",
              "    </tr>\n",
              "    <tr>\n",
              "      <th>4</th>\n",
              "      <td>5</td>\n",
              "      <td>Pakistan</td>\n",
              "      <td>136</td>\n",
              "      <td>208</td>\n",
              "      <td>245</td>\n",
              "    </tr>\n",
              "    <tr>\n",
              "      <th>5</th>\n",
              "      <td>6</td>\n",
              "      <td>Brazil</td>\n",
              "      <td>176</td>\n",
              "      <td>206</td>\n",
              "      <td>228</td>\n",
              "    </tr>\n",
              "    <tr>\n",
              "      <th>6</th>\n",
              "      <td>7</td>\n",
              "      <td>Nigeria</td>\n",
              "      <td>123</td>\n",
              "      <td>182</td>\n",
              "      <td>263</td>\n",
              "    </tr>\n",
              "    <tr>\n",
              "      <th>7</th>\n",
              "      <td>8</td>\n",
              "      <td>Bangladesh</td>\n",
              "      <td>131</td>\n",
              "      <td>161</td>\n",
              "      <td>186</td>\n",
              "    </tr>\n",
              "    <tr>\n",
              "      <th>8</th>\n",
              "      <td>9</td>\n",
              "      <td>Russia</td>\n",
              "      <td>146</td>\n",
              "      <td>146</td>\n",
              "      <td>149</td>\n",
              "    </tr>\n",
              "    <tr>\n",
              "      <th>9</th>\n",
              "      <td>10</td>\n",
              "      <td>Mexico</td>\n",
              "      <td>103</td>\n",
              "      <td>127</td>\n",
              "      <td>148</td>\n",
              "    </tr>\n",
              "    <tr>\n",
              "      <th>10</th>\n",
              "      <td>NaN</td>\n",
              "      <td>World total</td>\n",
              "      <td>6127</td>\n",
              "      <td>7349</td>\n",
              "      <td>8501</td>\n",
              "    </tr>\n",
              "    <tr>\n",
              "      <th>11</th>\n",
              "      <td>Notes: .mw-parser-output .reflist{font-size:90...</td>\n",
              "      <td>Notes: .mw-parser-output .reflist{font-size:90...</td>\n",
              "      <td>Notes: .mw-parser-output .reflist{font-size:90...</td>\n",
              "      <td>Notes: .mw-parser-output .reflist{font-size:90...</td>\n",
              "      <td>Notes: .mw-parser-output .reflist{font-size:90...</td>\n",
              "    </tr>\n",
              "  </tbody>\n",
              "</table>\n",
              "</div>"
            ],
            "text/plain": [
              "                                                    #  ...                                            2030[A]\n",
              "0                                                   1  ...                                               1416\n",
              "1                                                   2  ...                                               1528\n",
              "2                                                   3  ...                                                356\n",
              "3                                                   4  ...                                                295\n",
              "4                                                   5  ...                                                245\n",
              "5                                                   6  ...                                                228\n",
              "6                                                   7  ...                                                263\n",
              "7                                                   8  ...                                                186\n",
              "8                                                   9  ...                                                149\n",
              "9                                                  10  ...                                                148\n",
              "10                                                NaN  ...                                               8501\n",
              "11  Notes: .mw-parser-output .reflist{font-size:90...  ...  Notes: .mw-parser-output .reflist{font-size:90...\n",
              "\n",
              "[12 rows x 5 columns]"
            ]
          },
          "metadata": {},
          "execution_count": 37
        }
      ]
    },
    {
      "cell_type": "code",
      "metadata": {
        "id": "Ko8fDO9ExdRa"
      },
      "source": [
        "worldtopten = worldtopten.drop(11,axis=0)"
      ],
      "execution_count": null,
      "outputs": []
    },
    {
      "cell_type": "code",
      "metadata": {
        "colab": {
          "base_uri": "https://localhost:8080/",
          "height": 381
        },
        "id": "Otz4q-QJxpgM",
        "outputId": "1386ac44-1656-4fff-bccb-8ac7bea46739"
      },
      "source": [
        "worldtopten = worldtopten.drop('#',axis=1)\n",
        "worldtopten"
      ],
      "execution_count": null,
      "outputs": [
        {
          "output_type": "execute_result",
          "data": {
            "text/html": [
              "<div>\n",
              "<style scoped>\n",
              "    .dataframe tbody tr th:only-of-type {\n",
              "        vertical-align: middle;\n",
              "    }\n",
              "\n",
              "    .dataframe tbody tr th {\n",
              "        vertical-align: top;\n",
              "    }\n",
              "\n",
              "    .dataframe thead th {\n",
              "        text-align: right;\n",
              "    }\n",
              "</style>\n",
              "<table border=\"1\" class=\"dataframe\">\n",
              "  <thead>\n",
              "    <tr style=\"text-align: right;\">\n",
              "      <th></th>\n",
              "      <th>Top ten most populous countries</th>\n",
              "      <th>2000</th>\n",
              "      <th>2015</th>\n",
              "      <th>2030[A]</th>\n",
              "    </tr>\n",
              "  </thead>\n",
              "  <tbody>\n",
              "    <tr>\n",
              "      <th>0</th>\n",
              "      <td>China[B]</td>\n",
              "      <td>1270</td>\n",
              "      <td>1376</td>\n",
              "      <td>1416</td>\n",
              "    </tr>\n",
              "    <tr>\n",
              "      <th>1</th>\n",
              "      <td>India</td>\n",
              "      <td>1053</td>\n",
              "      <td>1311</td>\n",
              "      <td>1528</td>\n",
              "    </tr>\n",
              "    <tr>\n",
              "      <th>2</th>\n",
              "      <td>United States</td>\n",
              "      <td>283</td>\n",
              "      <td>322</td>\n",
              "      <td>356</td>\n",
              "    </tr>\n",
              "    <tr>\n",
              "      <th>3</th>\n",
              "      <td>Indonesia</td>\n",
              "      <td>212</td>\n",
              "      <td>258</td>\n",
              "      <td>295</td>\n",
              "    </tr>\n",
              "    <tr>\n",
              "      <th>4</th>\n",
              "      <td>Pakistan</td>\n",
              "      <td>136</td>\n",
              "      <td>208</td>\n",
              "      <td>245</td>\n",
              "    </tr>\n",
              "    <tr>\n",
              "      <th>5</th>\n",
              "      <td>Brazil</td>\n",
              "      <td>176</td>\n",
              "      <td>206</td>\n",
              "      <td>228</td>\n",
              "    </tr>\n",
              "    <tr>\n",
              "      <th>6</th>\n",
              "      <td>Nigeria</td>\n",
              "      <td>123</td>\n",
              "      <td>182</td>\n",
              "      <td>263</td>\n",
              "    </tr>\n",
              "    <tr>\n",
              "      <th>7</th>\n",
              "      <td>Bangladesh</td>\n",
              "      <td>131</td>\n",
              "      <td>161</td>\n",
              "      <td>186</td>\n",
              "    </tr>\n",
              "    <tr>\n",
              "      <th>8</th>\n",
              "      <td>Russia</td>\n",
              "      <td>146</td>\n",
              "      <td>146</td>\n",
              "      <td>149</td>\n",
              "    </tr>\n",
              "    <tr>\n",
              "      <th>9</th>\n",
              "      <td>Mexico</td>\n",
              "      <td>103</td>\n",
              "      <td>127</td>\n",
              "      <td>148</td>\n",
              "    </tr>\n",
              "    <tr>\n",
              "      <th>10</th>\n",
              "      <td>World total</td>\n",
              "      <td>6127</td>\n",
              "      <td>7349</td>\n",
              "      <td>8501</td>\n",
              "    </tr>\n",
              "  </tbody>\n",
              "</table>\n",
              "</div>"
            ],
            "text/plain": [
              "   Top ten most populous countries  2000  2015 2030[A]\n",
              "0                         China[B]  1270  1376    1416\n",
              "1                            India  1053  1311    1528\n",
              "2                    United States   283   322     356\n",
              "3                        Indonesia   212   258     295\n",
              "4                         Pakistan   136   208     245\n",
              "5                           Brazil   176   206     228\n",
              "6                          Nigeria   123   182     263\n",
              "7                       Bangladesh   131   161     186\n",
              "8                           Russia   146   146     149\n",
              "9                           Mexico   103   127     148\n",
              "10                     World total  6127  7349    8501"
            ]
          },
          "metadata": {},
          "execution_count": 39
        }
      ]
    },
    {
      "cell_type": "code",
      "metadata": {
        "id": "31H2oGIGxqOG"
      },
      "source": [
        "worldtopten.columns = ['Country','2000','2015','2030 EST.']"
      ],
      "execution_count": null,
      "outputs": []
    },
    {
      "cell_type": "code",
      "metadata": {
        "colab": {
          "base_uri": "https://localhost:8080/",
          "height": 381
        },
        "id": "7ImI74HqyFQJ",
        "outputId": "7bdc05c1-c580-4b0f-97cf-fc62135a2cd1"
      },
      "source": [
        "worldtopten"
      ],
      "execution_count": null,
      "outputs": [
        {
          "output_type": "execute_result",
          "data": {
            "text/html": [
              "<div>\n",
              "<style scoped>\n",
              "    .dataframe tbody tr th:only-of-type {\n",
              "        vertical-align: middle;\n",
              "    }\n",
              "\n",
              "    .dataframe tbody tr th {\n",
              "        vertical-align: top;\n",
              "    }\n",
              "\n",
              "    .dataframe thead th {\n",
              "        text-align: right;\n",
              "    }\n",
              "</style>\n",
              "<table border=\"1\" class=\"dataframe\">\n",
              "  <thead>\n",
              "    <tr style=\"text-align: right;\">\n",
              "      <th></th>\n",
              "      <th>Country</th>\n",
              "      <th>2000</th>\n",
              "      <th>2015</th>\n",
              "      <th>2030 EST.</th>\n",
              "    </tr>\n",
              "  </thead>\n",
              "  <tbody>\n",
              "    <tr>\n",
              "      <th>0</th>\n",
              "      <td>China[B]</td>\n",
              "      <td>1270</td>\n",
              "      <td>1376</td>\n",
              "      <td>1416</td>\n",
              "    </tr>\n",
              "    <tr>\n",
              "      <th>1</th>\n",
              "      <td>India</td>\n",
              "      <td>1053</td>\n",
              "      <td>1311</td>\n",
              "      <td>1528</td>\n",
              "    </tr>\n",
              "    <tr>\n",
              "      <th>2</th>\n",
              "      <td>United States</td>\n",
              "      <td>283</td>\n",
              "      <td>322</td>\n",
              "      <td>356</td>\n",
              "    </tr>\n",
              "    <tr>\n",
              "      <th>3</th>\n",
              "      <td>Indonesia</td>\n",
              "      <td>212</td>\n",
              "      <td>258</td>\n",
              "      <td>295</td>\n",
              "    </tr>\n",
              "    <tr>\n",
              "      <th>4</th>\n",
              "      <td>Pakistan</td>\n",
              "      <td>136</td>\n",
              "      <td>208</td>\n",
              "      <td>245</td>\n",
              "    </tr>\n",
              "    <tr>\n",
              "      <th>5</th>\n",
              "      <td>Brazil</td>\n",
              "      <td>176</td>\n",
              "      <td>206</td>\n",
              "      <td>228</td>\n",
              "    </tr>\n",
              "    <tr>\n",
              "      <th>6</th>\n",
              "      <td>Nigeria</td>\n",
              "      <td>123</td>\n",
              "      <td>182</td>\n",
              "      <td>263</td>\n",
              "    </tr>\n",
              "    <tr>\n",
              "      <th>7</th>\n",
              "      <td>Bangladesh</td>\n",
              "      <td>131</td>\n",
              "      <td>161</td>\n",
              "      <td>186</td>\n",
              "    </tr>\n",
              "    <tr>\n",
              "      <th>8</th>\n",
              "      <td>Russia</td>\n",
              "      <td>146</td>\n",
              "      <td>146</td>\n",
              "      <td>149</td>\n",
              "    </tr>\n",
              "    <tr>\n",
              "      <th>9</th>\n",
              "      <td>Mexico</td>\n",
              "      <td>103</td>\n",
              "      <td>127</td>\n",
              "      <td>148</td>\n",
              "    </tr>\n",
              "    <tr>\n",
              "      <th>10</th>\n",
              "      <td>World total</td>\n",
              "      <td>6127</td>\n",
              "      <td>7349</td>\n",
              "      <td>8501</td>\n",
              "    </tr>\n",
              "  </tbody>\n",
              "</table>\n",
              "</div>"
            ],
            "text/plain": [
              "          Country  2000  2015 2030 EST.\n",
              "0        China[B]  1270  1376      1416\n",
              "1           India  1053  1311      1528\n",
              "2   United States   283   322       356\n",
              "3       Indonesia   212   258       295\n",
              "4        Pakistan   136   208       245\n",
              "5          Brazil   176   206       228\n",
              "6         Nigeria   123   182       263\n",
              "7      Bangladesh   131   161       186\n",
              "8          Russia   146   146       149\n",
              "9          Mexico   103   127       148\n",
              "10    World total  6127  7349      8501"
            ]
          },
          "metadata": {},
          "execution_count": 41
        }
      ]
    },
    {
      "cell_type": "code",
      "metadata": {
        "colab": {
          "base_uri": "https://localhost:8080/"
        },
        "id": "nMB8xouZyF_L",
        "outputId": "dace32d3-d6a1-4e13-a40d-dee1d929462a"
      },
      "source": [
        "!pip install sqlalchemy"
      ],
      "execution_count": null,
      "outputs": [
        {
          "output_type": "stream",
          "name": "stdout",
          "text": [
            "Requirement already satisfied: sqlalchemy in /usr/local/lib/python3.7/dist-packages (1.4.25)\n",
            "Requirement already satisfied: greenlet!=0.4.17 in /usr/local/lib/python3.7/dist-packages (from sqlalchemy) (1.1.2)\n",
            "Requirement already satisfied: importlib-metadata in /usr/local/lib/python3.7/dist-packages (from sqlalchemy) (4.8.1)\n",
            "Requirement already satisfied: zipp>=0.5 in /usr/local/lib/python3.7/dist-packages (from importlib-metadata->sqlalchemy) (3.6.0)\n",
            "Requirement already satisfied: typing-extensions>=3.6.4 in /usr/local/lib/python3.7/dist-packages (from importlib-metadata->sqlalchemy) (3.7.4.3)\n"
          ]
        }
      ]
    },
    {
      "cell_type": "code",
      "metadata": {
        "id": "W1zLTDhZRB0n"
      },
      "source": [
        "from sqlalchemy import create_engine"
      ],
      "execution_count": null,
      "outputs": []
    },
    {
      "cell_type": "code",
      "metadata": {
        "id": "ZpMziX9pRGzN"
      },
      "source": [
        "temp_tb = create_engine('sqlite:///:memory:')"
      ],
      "execution_count": null,
      "outputs": []
    },
    {
      "cell_type": "code",
      "metadata": {
        "id": "OA0iEXT3RM7T"
      },
      "source": [
        "df = pd.DataFrame(data=np.random.randint(low=0,high=100,size=(4,4)),columns=['a','b','c','c'])"
      ],
      "execution_count": null,
      "outputs": []
    },
    {
      "cell_type": "code",
      "metadata": {
        "id": "5DntlMPcR3eb"
      },
      "source": [
        "df.to_sql(name='new_table',con=temp_tb)"
      ],
      "execution_count": null,
      "outputs": []
    },
    {
      "cell_type": "code",
      "metadata": {
        "id": "1-po9XCJSDTm"
      },
      "source": [
        "new_df = pd.read_sql(sql='new_table',con=temp_tb)"
      ],
      "execution_count": null,
      "outputs": []
    },
    {
      "cell_type": "code",
      "metadata": {
        "colab": {
          "base_uri": "https://localhost:8080/",
          "height": 170
        },
        "id": "KM5yAV9FSYDZ",
        "outputId": "6ba87dbc-af40-4691-c830-c27e31a4a17a"
      },
      "source": [
        "new_df"
      ],
      "execution_count": null,
      "outputs": [
        {
          "output_type": "execute_result",
          "data": {
            "text/html": [
              "<div>\n",
              "<style scoped>\n",
              "    .dataframe tbody tr th:only-of-type {\n",
              "        vertical-align: middle;\n",
              "    }\n",
              "\n",
              "    .dataframe tbody tr th {\n",
              "        vertical-align: top;\n",
              "    }\n",
              "\n",
              "    .dataframe thead th {\n",
              "        text-align: right;\n",
              "    }\n",
              "</style>\n",
              "<table border=\"1\" class=\"dataframe\">\n",
              "  <thead>\n",
              "    <tr style=\"text-align: right;\">\n",
              "      <th></th>\n",
              "      <th>index</th>\n",
              "      <th>a</th>\n",
              "      <th>b</th>\n",
              "      <th>c</th>\n",
              "    </tr>\n",
              "  </thead>\n",
              "  <tbody>\n",
              "    <tr>\n",
              "      <th>0</th>\n",
              "      <td>0</td>\n",
              "      <td>9</td>\n",
              "      <td>77</td>\n",
              "      <td>20</td>\n",
              "    </tr>\n",
              "    <tr>\n",
              "      <th>1</th>\n",
              "      <td>1</td>\n",
              "      <td>37</td>\n",
              "      <td>85</td>\n",
              "      <td>5</td>\n",
              "    </tr>\n",
              "    <tr>\n",
              "      <th>2</th>\n",
              "      <td>2</td>\n",
              "      <td>76</td>\n",
              "      <td>40</td>\n",
              "      <td>64</td>\n",
              "    </tr>\n",
              "    <tr>\n",
              "      <th>3</th>\n",
              "      <td>3</td>\n",
              "      <td>87</td>\n",
              "      <td>2</td>\n",
              "      <td>83</td>\n",
              "    </tr>\n",
              "  </tbody>\n",
              "</table>\n",
              "</div>"
            ],
            "text/plain": [
              "   index   a   b   c\n",
              "0      0   9  77  20\n",
              "1      1  37  85   5\n",
              "2      2  76  40  64\n",
              "3      3  87   2  83"
            ]
          },
          "metadata": {},
          "execution_count": 51
        }
      ]
    },
    {
      "cell_type": "code",
      "metadata": {
        "colab": {
          "base_uri": "https://localhost:8080/",
          "height": 170
        },
        "id": "MKvpAnSiSbxo",
        "outputId": "93fe6429-1401-466c-9396-65b9c5aa9941"
      },
      "source": [
        "pd.read_sql_query(sql='SELECT a,c from new_table',con=temp_tb)"
      ],
      "execution_count": null,
      "outputs": [
        {
          "output_type": "execute_result",
          "data": {
            "text/html": [
              "<div>\n",
              "<style scoped>\n",
              "    .dataframe tbody tr th:only-of-type {\n",
              "        vertical-align: middle;\n",
              "    }\n",
              "\n",
              "    .dataframe tbody tr th {\n",
              "        vertical-align: top;\n",
              "    }\n",
              "\n",
              "    .dataframe thead th {\n",
              "        text-align: right;\n",
              "    }\n",
              "</style>\n",
              "<table border=\"1\" class=\"dataframe\">\n",
              "  <thead>\n",
              "    <tr style=\"text-align: right;\">\n",
              "      <th></th>\n",
              "      <th>a</th>\n",
              "      <th>c</th>\n",
              "    </tr>\n",
              "  </thead>\n",
              "  <tbody>\n",
              "    <tr>\n",
              "      <th>0</th>\n",
              "      <td>9</td>\n",
              "      <td>20</td>\n",
              "    </tr>\n",
              "    <tr>\n",
              "      <th>1</th>\n",
              "      <td>37</td>\n",
              "      <td>5</td>\n",
              "    </tr>\n",
              "    <tr>\n",
              "      <th>2</th>\n",
              "      <td>76</td>\n",
              "      <td>64</td>\n",
              "    </tr>\n",
              "    <tr>\n",
              "      <th>3</th>\n",
              "      <td>87</td>\n",
              "      <td>83</td>\n",
              "    </tr>\n",
              "  </tbody>\n",
              "</table>\n",
              "</div>"
            ],
            "text/plain": [
              "    a   c\n",
              "0   9  20\n",
              "1  37   5\n",
              "2  76  64\n",
              "3  87  83"
            ]
          },
          "metadata": {},
          "execution_count": 54
        }
      ]
    },
    {
      "cell_type": "code",
      "metadata": {
        "id": "0PC74RVXStBG"
      },
      "source": [
        ""
      ],
      "execution_count": null,
      "outputs": []
    }
  ]
}